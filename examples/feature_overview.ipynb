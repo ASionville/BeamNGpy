{
 "cells": [
  {
   "cell_type": "markdown",
   "id": "d1a30695-34e1-4cdb-b066-f7ce39a1dce1",
   "metadata": {},
   "source": [
    "# BeamNGpy Feature Overview\n",
    "*BeamNG.tech only*"
   ]
  },
  {
   "cell_type": "markdown",
   "id": "b31d13e9-c04d-4ced-9cf4-d4044a3b191d",
   "metadata": {},
   "source": [
    "## Introduction\n",
    "This notebook is a non-exhaustive showcase of the things you can do with BeamNGpy, focused on customization of the vehicles, the environment and the sensor suite.\n",
    "\n",
    "To install BeamNGpy, follow the instructions listed [here](https://github.com/BeamNG/BeamNGpy#installation).\n",
    "Also be sure to study the complete documentation of [BeamNGpy](https://beamngpy.readthedocs.io) and [BeamNG.tech](https://documentation.beamng.com/beamng_tech/), if you want to familiarize yourself more with the library.\n",
    "\n",
    "Let's start!\n",
    "\n",
    "BeamNGpy is packaged as a Python module called `beamngpy`. All the imports that we will need in this notebook are listed in the following cell:"
   ]
  },
  {
   "cell_type": "code",
   "execution_count": 1,
   "id": "e9a04b32-9aae-4baf-b6a3-4e43bed15b69",
   "metadata": {},
   "outputs": [],
   "source": [
    "import colorsys\n",
    "import time\n",
    "\n",
    "import matplotlib.pyplot as plt\n",
    "import numpy as np\n",
    "from beamngpy import BeamNGpy, Scenario, Vehicle\n",
    "from beamngpy.sensors import (\n",
    "    IMU, Camera, Damage, Electrics, Lidar, Timer, Ultrasonic)\n",
    "from IPython.display import clear_output"
   ]
  },
  {
   "cell_type": "markdown",
   "id": "43cd3e95-94ab-4f9d-90c4-fb37e6cfd229",
   "metadata": {},
   "source": [
    "To start BeamNG.tech using BeamNGpy, you use the constructor of the class `BeamNGpy`. The `BeamNGpy` instance allows you to control the simulation. We call `BeamNGpy.open()` to start the simulation which is connected to the Python process using a TCP socket."
   ]
  },
  {
   "cell_type": "markdown",
   "id": "5bf12820-7870-4f60-a931-723c0de04c2d",
   "metadata": {
    "tags": []
   },
   "source": [
    "#### Documentation"
   ]
  },
  {
   "cell_type": "code",
   "execution_count": 2,
   "id": "2aa029d7-ce4e-49df-8a87-afd64dd1d962",
   "metadata": {},
   "outputs": [
    {
     "name": "stdout",
     "output_type": "stream",
     "text": [
      "\u001b[1;31mInit signature:\u001b[0m \u001b[0mBeamNGpy\u001b[0m\u001b[1;33m(\u001b[0m\u001b[0mhost\u001b[0m\u001b[1;33m,\u001b[0m \u001b[0mport\u001b[0m\u001b[1;33m,\u001b[0m \u001b[0mhome\u001b[0m\u001b[1;33m=\u001b[0m\u001b[1;32mNone\u001b[0m\u001b[1;33m,\u001b[0m \u001b[0muser\u001b[0m\u001b[1;33m=\u001b[0m\u001b[1;32mNone\u001b[0m\u001b[1;33m,\u001b[0m \u001b[0mremote\u001b[0m\u001b[1;33m=\u001b[0m\u001b[1;32mFalse\u001b[0m\u001b[1;33m)\u001b[0m\u001b[1;33m\u001b[0m\u001b[1;33m\u001b[0m\u001b[0m\n",
      "\u001b[1;31mDocstring:\u001b[0m     \n",
      "The BeamNGpy class is the backbone of communication with the BeamNG\n",
      "simulation and offers methods of starting, stopping, connecting to, and\n",
      "controlling the state of the simulator.\n",
      "\u001b[1;31mInit docstring:\u001b[0m\n",
      "Instantiates a BeamNGpy instance connecting to the simulator on the\n",
      "given host and port. The home directory of the simulator can be passed\n",
      "to this constructor. If None is given, this class tries to read a\n",
      "home path from the ``BNG_HOME`` environment variable.\n",
      "\n",
      "Note:\n",
      "    If no home path is set, this class will not work properly.\n",
      "\n",
      "Args:\n",
      "    host (str): The host to connect to\n",
      "    port (int): The port to connect to\n",
      "    home (str): Path to the simulator's home directory.\n",
      "    user (str): Additional optional user path to set. This path can be\n",
      "                used to set where custom files created during\n",
      "                executions will be placed if the home folder shall not\n",
      "                be touched.\n",
      "    remote (bool): Set to true if using the BeamNGpy library on a\n",
      "                   different system than BeamNG.tech.\n",
      "\u001b[1;31mFile:\u001b[0m           c:\\beamngpy\\src\\beamngpy\\beamng.py\n",
      "\u001b[1;31mType:\u001b[0m           type\n",
      "\u001b[1;31mSubclasses:\u001b[0m     \n"
     ]
    }
   ],
   "source": [
    "?BeamNGpy"
   ]
  },
  {
   "cell_type": "code",
   "execution_count": 3,
   "id": "3709f351-48c5-45de-80b5-42b5cc19ef80",
   "metadata": {},
   "outputs": [
    {
     "name": "stdout",
     "output_type": "stream",
     "text": [
      "\u001b[1;31mSignature:\u001b[0m \u001b[0mBeamNGpy\u001b[0m\u001b[1;33m.\u001b[0m\u001b[0mopen\u001b[0m\u001b[1;33m(\u001b[0m\u001b[0mself\u001b[0m\u001b[1;33m,\u001b[0m \u001b[0mextensions\u001b[0m\u001b[1;33m=\u001b[0m\u001b[1;32mNone\u001b[0m\u001b[1;33m,\u001b[0m \u001b[1;33m*\u001b[0m\u001b[0margs\u001b[0m\u001b[1;33m,\u001b[0m \u001b[0mlaunch\u001b[0m\u001b[1;33m=\u001b[0m\u001b[1;32mTrue\u001b[0m\u001b[1;33m,\u001b[0m \u001b[1;33m**\u001b[0m\u001b[0mopts\u001b[0m\u001b[1;33m)\u001b[0m\u001b[1;33m\u001b[0m\u001b[1;33m\u001b[0m\u001b[0m\n",
      "\u001b[1;31mDocstring:\u001b[0m\n",
      "Starts a BeamNG.* process, opens a server socket, and waits for the\n",
      "spawned BeamNG.* process to connect. This method blocks until the\n",
      "process started and is ready.\n",
      "\n",
      "Args:\n",
      "    launch (bool): Whether to launch a new process or connect to a\n",
      "                   running one on the configured host/port. Defaults to\n",
      "                   True.\n",
      "\u001b[1;31mFile:\u001b[0m      c:\\beamngpy\\src\\beamngpy\\beamng.py\n",
      "\u001b[1;31mType:\u001b[0m      function\n"
     ]
    }
   ],
   "source": [
    "?BeamNGpy.open"
   ]
  },
  {
   "cell_type": "markdown",
   "id": "a8ddebdf-0874-4a00-a337-bc89def69a25",
   "metadata": {},
   "source": [
    "#### Code"
   ]
  },
  {
   "cell_type": "code",
   "execution_count": 4,
   "id": "023ab582-a62c-4ad2-9c6f-3f09a5aa16fb",
   "metadata": {},
   "outputs": [
    {
     "data": {
      "text/plain": [
       "<beamngpy.beamng.BeamNGpy at 0x2179a987340>"
      ]
     },
     "execution_count": 4,
     "metadata": {},
     "output_type": "execute_result"
    }
   ],
   "source": [
    "beamng = BeamNGpy('localhost', 64256)\n",
    "beamng.open()"
   ]
  },
  {
   "cell_type": "markdown",
   "id": "92a55f65-1816-483b-a868-8b4d512eaf37",
   "metadata": {},
   "source": [
    "The main menu of BeamNG.tech pops up and we are ready to set up the simulation! We will start on the `italy` map. Let's generate a `Scenario` object, a single `Vehicle` and add the vehicle to the scenario."
   ]
  },
  {
   "cell_type": "markdown",
   "id": "456ae5f4-7279-4ce8-b526-d1543f7da9f3",
   "metadata": {
    "tags": []
   },
   "source": [
    "#### Documentation"
   ]
  },
  {
   "cell_type": "code",
   "execution_count": 5,
   "id": "05e50ef6-568c-4acf-aaab-61786d38ef0f",
   "metadata": {
    "tags": []
   },
   "outputs": [
    {
     "name": "stdout",
     "output_type": "stream",
     "text": [
      "\u001b[1;31mInit signature:\u001b[0m \u001b[0mScenario\u001b[0m\u001b[1;33m(\u001b[0m\u001b[0mlevel\u001b[0m\u001b[1;33m,\u001b[0m \u001b[0mname\u001b[0m\u001b[1;33m,\u001b[0m \u001b[0mpath\u001b[0m\u001b[1;33m=\u001b[0m\u001b[1;32mNone\u001b[0m\u001b[1;33m,\u001b[0m \u001b[1;33m**\u001b[0m\u001b[0moptions\u001b[0m\u001b[1;33m)\u001b[0m\u001b[1;33m\u001b[0m\u001b[1;33m\u001b[0m\u001b[0m\n",
      "\u001b[1;31mDocstring:\u001b[0m     \n",
      "The scenario class contains information for setting up and executing\n",
      "simulation scenarios along with methods to extract data during their\n",
      "execution.\n",
      "\u001b[1;31mInit docstring:\u001b[0m\n",
      "Instantiates a scenario instance with the given name taking place in\n",
      "the given level.\n",
      "\n",
      "Args:\n",
      "    level: Either the name of the level this scenario takes place in\n",
      "           as a string or as an instance of :class:`.Level`\n",
      "    name (str): The name of this scenario. Should be unique for the\n",
      "                level it's taking place in to avoid file collisions.\n",
      "\u001b[1;31mFile:\u001b[0m           c:\\beamngpy\\src\\beamngpy\\scenario.py\n",
      "\u001b[1;31mType:\u001b[0m           type\n",
      "\u001b[1;31mSubclasses:\u001b[0m     \n"
     ]
    }
   ],
   "source": [
    "?Scenario"
   ]
  },
  {
   "cell_type": "code",
   "execution_count": 6,
   "id": "7ed1b033-3929-406f-96ea-743c3e73bfea",
   "metadata": {
    "tags": []
   },
   "outputs": [
    {
     "name": "stdout",
     "output_type": "stream",
     "text": [
      "\u001b[1;31mInit signature:\u001b[0m \u001b[0mVehicle\u001b[0m\u001b[1;33m(\u001b[0m\u001b[0mvid\u001b[0m\u001b[1;33m,\u001b[0m \u001b[0mmodel\u001b[0m\u001b[1;33m,\u001b[0m \u001b[0mport\u001b[0m\u001b[1;33m=\u001b[0m\u001b[1;32mNone\u001b[0m\u001b[1;33m,\u001b[0m \u001b[1;33m**\u001b[0m\u001b[0moptions\u001b[0m\u001b[1;33m)\u001b[0m\u001b[1;33m\u001b[0m\u001b[1;33m\u001b[0m\u001b[0m\n",
      "\u001b[1;31mDocstring:\u001b[0m     \n",
      "The vehicle class represents a vehicle of the simulation that can be\n",
      "interacted with from BeamNGpy. This class offers methods to both control\n",
      "the vehicle's state as well as retrieve information about it through\n",
      "sensors the user can attach to the vehicle.\n",
      "\u001b[1;31mInit docstring:\u001b[0m\n",
      "Creates a vehicle with the given vehicle ID. The ID must be unique\n",
      "within the scenario.\n",
      "\n",
      "Args:\n",
      "    vid (str): The vehicle's ID.\n",
      "    model (str): Model of the vehicle.\n",
      "\u001b[1;31mFile:\u001b[0m           c:\\beamngpy\\src\\beamngpy\\vehicle.py\n",
      "\u001b[1;31mType:\u001b[0m           type\n",
      "\u001b[1;31mSubclasses:\u001b[0m     \n"
     ]
    }
   ],
   "source": [
    "?Vehicle"
   ]
  },
  {
   "cell_type": "code",
   "execution_count": 7,
   "id": "edf558b3-2452-4ea3-950b-4edcb5d1efaa",
   "metadata": {},
   "outputs": [
    {
     "name": "stdout",
     "output_type": "stream",
     "text": [
      "\u001b[1;31mSignature:\u001b[0m\n",
      "\u001b[0mScenario\u001b[0m\u001b[1;33m.\u001b[0m\u001b[0madd_vehicle\u001b[0m\u001b[1;33m(\u001b[0m\u001b[1;33m\n",
      "\u001b[0m    \u001b[0mself\u001b[0m\u001b[1;33m,\u001b[0m\u001b[1;33m\n",
      "\u001b[0m    \u001b[0mvehicle\u001b[0m\u001b[1;33m,\u001b[0m\u001b[1;33m\n",
      "\u001b[0m    \u001b[0mpos\u001b[0m\u001b[1;33m=\u001b[0m\u001b[1;33m(\u001b[0m\u001b[1;36m0\u001b[0m\u001b[1;33m,\u001b[0m \u001b[1;36m0\u001b[0m\u001b[1;33m,\u001b[0m \u001b[1;36m0\u001b[0m\u001b[1;33m)\u001b[0m\u001b[1;33m,\u001b[0m\u001b[1;33m\n",
      "\u001b[0m    \u001b[0mrot_quat\u001b[0m\u001b[1;33m=\u001b[0m\u001b[1;33m(\u001b[0m\u001b[1;36m0\u001b[0m\u001b[1;33m,\u001b[0m \u001b[1;36m0\u001b[0m\u001b[1;33m,\u001b[0m \u001b[1;36m0\u001b[0m\u001b[1;33m,\u001b[0m \u001b[1;36m1\u001b[0m\u001b[1;33m)\u001b[0m\u001b[1;33m,\u001b[0m\u001b[1;33m\n",
      "\u001b[0m    \u001b[0mcling\u001b[0m\u001b[1;33m=\u001b[0m\u001b[1;32mTrue\u001b[0m\u001b[1;33m,\u001b[0m\u001b[1;33m\n",
      "\u001b[0m\u001b[1;33m)\u001b[0m\u001b[1;33m\u001b[0m\u001b[1;33m\u001b[0m\u001b[0m\n",
      "\u001b[1;31mDocstring:\u001b[0m\n",
      "Adds a vehicle to this scenario at the given position with the given\n",
      "orientation.\n",
      "\n",
      "Args:\n",
      "    pos (tuple): (x,y,z) tuple specifying the position of the vehicle.\n",
      "    rot_quat (tuple, optional): (x, y, z, w) tuple specifying\n",
      "                                the rotation as quaternion\n",
      "\u001b[1;31mFile:\u001b[0m      c:\\beamngpy\\src\\beamngpy\\scenario.py\n",
      "\u001b[1;31mType:\u001b[0m      function\n"
     ]
    }
   ],
   "source": [
    "?Scenario.add_vehicle"
   ]
  },
  {
   "cell_type": "code",
   "execution_count": 8,
   "id": "2f721368-a7fd-4a70-81e3-0352eb11dc6e",
   "metadata": {},
   "outputs": [
    {
     "name": "stdout",
     "output_type": "stream",
     "text": [
      "\u001b[1;31mSignature:\u001b[0m \u001b[0mScenario\u001b[0m\u001b[1;33m.\u001b[0m\u001b[0mmake\u001b[0m\u001b[1;33m(\u001b[0m\u001b[0mself\u001b[0m\u001b[1;33m,\u001b[0m \u001b[0mbng\u001b[0m\u001b[1;33m)\u001b[0m\u001b[1;33m\u001b[0m\u001b[1;33m\u001b[0m\u001b[0m\n",
      "\u001b[1;31mDocstring:\u001b[0m\n",
      "Generates necessary files to describe the scenario in the simulation\n",
      "and outputs them to the simulator.\n",
      "\n",
      "Args:\n",
      "    bng (:class:`.BeamNGpy`): The BeamNGpy instance to generate the\n",
      "                              scenario for.\n",
      "\n",
      "Raises:\n",
      "    BNGError: If the scenario already has set its info .json file included.\n",
      "\u001b[1;31mFile:\u001b[0m      c:\\beamngpy\\src\\beamngpy\\scenario.py\n",
      "\u001b[1;31mType:\u001b[0m      function\n"
     ]
    }
   ],
   "source": [
    "?Scenario.make"
   ]
  },
  {
   "cell_type": "markdown",
   "id": "0bf89b6d-f567-495e-a654-853857ea1475",
   "metadata": {},
   "source": [
    "#### Code"
   ]
  },
  {
   "cell_type": "code",
   "execution_count": 9,
   "id": "514eb6b5-9d09-4ac4-8ab4-6b9253f8d2df",
   "metadata": {},
   "outputs": [],
   "source": [
    "scenario = Scenario('italy', 'beamngpy_feature_overview')\n",
    "\n",
    "ego = Vehicle('ego', model='etk800', color='White', licence='PYTHON')\n",
    "scenario.add_vehicle(ego, pos=(245.11, -906.94, 247.46),\n",
    "                     rot_quat=(0.0010, 0.1242, 0.9884, -0.0872))\n",
    "scenario.make(beamng)"
   ]
  },
  {
   "cell_type": "markdown",
   "id": "9ab59a40-13c7-4c91-a88c-72c29534612c",
   "metadata": {},
   "source": [
    "Voilà, simple as that! To actually start the simulation, you need the following commands:"
   ]
  },
  {
   "cell_type": "markdown",
   "id": "9c7a974a-fa25-4e92-b298-9cfbfa3bb0ff",
   "metadata": {
    "tags": []
   },
   "source": [
    "#### Documentation"
   ]
  },
  {
   "cell_type": "code",
   "execution_count": 10,
   "id": "2c79d364-c196-4401-9fa8-fc43ed6568e5",
   "metadata": {},
   "outputs": [
    {
     "name": "stdout",
     "output_type": "stream",
     "text": [
      "\u001b[1;31mSignature:\u001b[0m \u001b[0mBeamNGpy\u001b[0m\u001b[1;33m.\u001b[0m\u001b[0mload_scenario\u001b[0m\u001b[1;33m(\u001b[0m\u001b[0mself\u001b[0m\u001b[1;33m,\u001b[0m \u001b[0mscenario\u001b[0m\u001b[1;33m)\u001b[0m\u001b[1;33m\u001b[0m\u001b[1;33m\u001b[0m\u001b[0m\n",
      "\u001b[1;31mDocstring:\u001b[0m\n",
      "Loads the given scenario in the simulation and returns once loading\n",
      "is finished.\n",
      "\n",
      "Args:\n",
      "    scenario (:class:`.Scenario`): The scenario to load.\n",
      "\u001b[1;31mFile:\u001b[0m      c:\\beamngpy\\src\\beamngpy\\beamng.py\n",
      "\u001b[1;31mType:\u001b[0m      function\n"
     ]
    }
   ],
   "source": [
    "?BeamNGpy.load_scenario"
   ]
  },
  {
   "cell_type": "code",
   "execution_count": 11,
   "id": "d6f5d28f-8eb0-4f10-a68a-22886092c253",
   "metadata": {},
   "outputs": [
    {
     "name": "stdout",
     "output_type": "stream",
     "text": [
      "\u001b[1;31mSignature:\u001b[0m \u001b[0mBeamNGpy\u001b[0m\u001b[1;33m.\u001b[0m\u001b[0mstart_scenario\u001b[0m\u001b[1;33m(\u001b[0m\u001b[0mself\u001b[0m\u001b[1;33m,\u001b[0m \u001b[0mrestrict_actions\u001b[0m\u001b[1;33m=\u001b[0m\u001b[1;32mFalse\u001b[0m\u001b[1;33m)\u001b[0m\u001b[1;33m\u001b[0m\u001b[1;33m\u001b[0m\u001b[0m\n",
      "\u001b[1;31mDocstring:\u001b[0m\n",
      "Starts the scenario; equivalent to clicking the \"Start\" button in the\n",
      "game after loading a scenario. This method blocks until the countdown\n",
      "to the scenario's start has finished.\n",
      "\n",
      "Args:\n",
      "    restrict_actions (bool): Whether to keep scenario restrictions,\n",
      "                             such as limited menu options and controls.\n",
      "                             Defaults to False.\n",
      "\u001b[1;31mFile:\u001b[0m      c:\\beamngpy\\src\\beamngpy\\beamng.py\n",
      "\u001b[1;31mType:\u001b[0m      function\n"
     ]
    }
   ],
   "source": [
    "?BeamNGpy.start_scenario"
   ]
  },
  {
   "cell_type": "markdown",
   "id": "576ebbf8-2888-49ba-9661-dab3751ad191",
   "metadata": {},
   "source": [
    "#### Code"
   ]
  },
  {
   "cell_type": "code",
   "execution_count": 12,
   "id": "095bff9a-c70a-4b77-9a9c-89f94acdb489",
   "metadata": {},
   "outputs": [],
   "source": [
    "beamng.load_scenario(scenario)\n",
    "beamng.start_scenario()"
   ]
  },
  {
   "cell_type": "markdown",
   "id": "8d0901ab-d7c6-4600-bc22-7d23e04d003f",
   "metadata": {},
   "source": [
    "The scenario is now loaded and started. Get ready for the feature showcase! We start by using the `ai_set_mode` command on the vehicle. It will drive around through the whole map, using data about the road network."
   ]
  },
  {
   "cell_type": "markdown",
   "id": "4a45ce9d-745a-46d2-b782-899669be2e08",
   "metadata": {
    "tags": []
   },
   "source": [
    "#### Documentation"
   ]
  },
  {
   "cell_type": "code",
   "execution_count": 13,
   "id": "910eef88-9f63-42f1-ac9c-2a2896dd0c3c",
   "metadata": {},
   "outputs": [
    {
     "name": "stdout",
     "output_type": "stream",
     "text": [
      "\u001b[1;31mSignature:\u001b[0m \u001b[0mVehicle\u001b[0m\u001b[1;33m.\u001b[0m\u001b[0mai_set_mode\u001b[0m\u001b[1;33m(\u001b[0m\u001b[0mself\u001b[0m\u001b[1;33m,\u001b[0m \u001b[0mmode\u001b[0m\u001b[1;33m)\u001b[0m\u001b[1;33m\u001b[0m\u001b[1;33m\u001b[0m\u001b[0m\n",
      "\u001b[1;31mDocstring:\u001b[0m\n",
      "Sets the desired mode of the simulator's built-in AI for this vehicle.\n",
      "Possible values are:\n",
      "\n",
      " * ``disabled``: Turn the AI off (default state)\n",
      " * ``random``: Drive from random points to random points on the map\n",
      " * ``span``: Drive along the entire road network of the map\n",
      " * ``manual``: Drive to a specific waypoint, target set separately\n",
      " * ``chase``: Chase a target vehicle, target set separately\n",
      " * ``flee``: Flee from a vehicle, target set separately\n",
      " * ``stopping``: Make the vehicle come to a halt (AI disables itself\n",
      "                                                    once the vehicle\n",
      "                                                    stopped.)\n",
      "\n",
      "Note:\n",
      "    Some AI methods automatically set appropriate modes, meaning a call\n",
      "    to this method might be optional.\n",
      "\n",
      "Args:\n",
      "    mode (str): The AI mode to set.\n",
      "\u001b[1;31mFile:\u001b[0m      c:\\beamngpy\\src\\beamngpy\\vehicle.py\n",
      "\u001b[1;31mType:\u001b[0m      function\n"
     ]
    }
   ],
   "source": [
    "?Vehicle.ai_set_mode"
   ]
  },
  {
   "cell_type": "code",
   "execution_count": 14,
   "id": "5e0b4abf-f8fb-4ce7-8ca1-e25732222ffc",
   "metadata": {},
   "outputs": [
    {
     "name": "stdout",
     "output_type": "stream",
     "text": [
      "\u001b[1;31mSignature:\u001b[0m \u001b[0mVehicle\u001b[0m\u001b[1;33m.\u001b[0m\u001b[0mai_drive_in_lane\u001b[0m\u001b[1;33m(\u001b[0m\u001b[0mself\u001b[0m\u001b[1;33m,\u001b[0m \u001b[0mlane\u001b[0m\u001b[1;33m)\u001b[0m\u001b[1;33m\u001b[0m\u001b[1;33m\u001b[0m\u001b[0m\n",
      "\u001b[1;31mDocstring:\u001b[0m\n",
      "Sets the drive in lane flag of the AI. If True, the AI only drives\n",
      "within the lane it can legally drive in.\n",
      "\n",
      "Args:\n",
      "    lane (bool): Lane flag to set.\n",
      "\u001b[1;31mFile:\u001b[0m      c:\\beamngpy\\src\\beamngpy\\vehicle.py\n",
      "\u001b[1;31mType:\u001b[0m      function\n"
     ]
    }
   ],
   "source": [
    "?Vehicle.ai_drive_in_lane"
   ]
  },
  {
   "cell_type": "markdown",
   "id": "b6e2f606-c707-41b0-913d-5d06e49c3090",
   "metadata": {},
   "source": [
    "#### Code"
   ]
  },
  {
   "cell_type": "code",
   "execution_count": 15,
   "id": "ac5a8576-b6b8-4a2d-aee9-eb510244cb9c",
   "metadata": {},
   "outputs": [],
   "source": [
    "ego.ai_set_mode('span')\n",
    "ego.ai_drive_in_lane(True)"
   ]
  },
  {
   "cell_type": "markdown",
   "id": "b6b2a746-7912-4a2a-9b0e-c15c5ae71eef",
   "metadata": {},
   "source": [
    "## Customization options\n",
    "\n",
    "With BeamNGpy, we can set and tweak various parameters of the vehicles spawned and also of the whole simulation environment. Let's see a few examples of what is possible to do. This list is not exhaustive; consult the [documentation](https://beamngpy.readthedocs.io) to see all the available options."
   ]
  },
  {
   "cell_type": "markdown",
   "id": "b161c5ce-1e8e-4ac4-a507-6b2706d294e4",
   "metadata": {
    "tags": []
   },
   "source": [
    "#### Documentation"
   ]
  },
  {
   "cell_type": "code",
   "execution_count": 16,
   "id": "588d088e-b1b1-4051-8f47-9e3bc30b420a",
   "metadata": {},
   "outputs": [
    {
     "name": "stdout",
     "output_type": "stream",
     "text": [
      "\u001b[1;31mSignature:\u001b[0m \u001b[0mVehicle\u001b[0m\u001b[1;33m.\u001b[0m\u001b[0mset_color\u001b[0m\u001b[1;33m(\u001b[0m\u001b[0mself\u001b[0m\u001b[1;33m,\u001b[0m \u001b[0mrgba\u001b[0m\u001b[1;33m=\u001b[0m\u001b[1;33m(\u001b[0m\u001b[1;36m1.0\u001b[0m\u001b[1;33m,\u001b[0m \u001b[1;36m1.0\u001b[0m\u001b[1;33m,\u001b[0m \u001b[1;36m1.0\u001b[0m\u001b[1;33m,\u001b[0m \u001b[1;36m1.0\u001b[0m\u001b[1;33m)\u001b[0m\u001b[1;33m)\u001b[0m\u001b[1;33m\u001b[0m\u001b[1;33m\u001b[0m\u001b[0m\n",
      "\u001b[1;31mDocstring:\u001b[0m\n",
      "Sets the color of this vehicle. Colour can be adjusted on the RGB\n",
      "spectrum and the \"shininess\" of the paint.\n",
      "\n",
      "Args:\n",
      "    rgba (tuple): The new colour given as a tuple of RGBA floats, where\n",
      "                  the alpha channel encodes the shininess of the paint.\n",
      "\u001b[1;31mFile:\u001b[0m      c:\\beamngpy\\src\\beamngpy\\vehicle.py\n",
      "\u001b[1;31mType:\u001b[0m      function\n"
     ]
    }
   ],
   "source": [
    "?Vehicle.set_color"
   ]
  },
  {
   "cell_type": "code",
   "execution_count": 17,
   "id": "539e845e-19f0-4a65-9123-be5bfd0c269b",
   "metadata": {},
   "outputs": [
    {
     "name": "stdout",
     "output_type": "stream",
     "text": [
      "\u001b[1;31mSignature:\u001b[0m \u001b[0mVehicle\u001b[0m\u001b[1;33m.\u001b[0m\u001b[0mset_lights\u001b[0m\u001b[1;33m(\u001b[0m\u001b[0mself\u001b[0m\u001b[1;33m,\u001b[0m \u001b[1;33m**\u001b[0m\u001b[0mkwargs\u001b[0m\u001b[1;33m)\u001b[0m\u001b[1;33m\u001b[0m\u001b[1;33m\u001b[0m\u001b[0m\n",
      "\u001b[1;31mDocstring:\u001b[0m\n",
      "Sets the vehicle's lights to given intensity values. The lighting\n",
      "system features lights that are simply binary on/off, but also ones\n",
      "where the intensity can be varied. Binary lights include:\n",
      "\n",
      "    * `left_signal`\n",
      "    * `right_signal`\n",
      "    * `hazard_signal`\n",
      "\n",
      "Non-binary lights vary between 0 for off, 1 for on, 2 for higher\n",
      "intensity. For example, headlights can be turned on with 1 and set to\n",
      "be more intense with 2. Non-binary lights include:\n",
      "\n",
      "    * `headlights`\n",
      "    * `fog_lights`\n",
      "    * `lightbar`\n",
      "\n",
      "Args:\n",
      "    left_signal (bool): On/off state of the left signal\n",
      "    right_signal (bool): On/off state of the right signal\n",
      "    hazard_signal (bool): On/off state of the hazard lights\n",
      "    headlights (int): Value from 0 to 2 indicating headlight intensity\n",
      "    fog_lights (int): Value from 0 to 2 indicating fog light intensity\n",
      "    lightbar (int): Value from 0 to 2 indicating lightbar intensity\n",
      "\n",
      "Note:\n",
      "    Not every vehicle has every type of light. For example, the\n",
      "    `lightbar` refers to the kind of lights typically found on top of\n",
      "    police cars. Setting values for non-existent lights will not cause\n",
      "    an error, but also achieve no effect.\n",
      "\n",
      "    Note also that lights are not independent. For example, turning on\n",
      "    the hazard lights will make both signal indicators blink, meaning\n",
      "    they will be turned on as well. Opposing indicators also turn each\n",
      "    other off, i.e. turning on the left signal turns off the right one,\n",
      "    and turning on the left signal during\n",
      "\n",
      "Raises:\n",
      "    BNGValueError: If an invalid light value is given.\n",
      "\n",
      "Returns:\n",
      "    Nothing. To query light states, attach an\n",
      "    :class:`.sensors.Electrics` sensor and poll it.\n",
      "\u001b[1;31mFile:\u001b[0m      c:\\beamngpy\\src\\beamngpy\\vehicle.py\n",
      "\u001b[1;31mType:\u001b[0m      function\n"
     ]
    }
   ],
   "source": [
    "?Vehicle.set_lights"
   ]
  },
  {
   "cell_type": "code",
   "execution_count": 18,
   "id": "a77d189a-eef9-4574-a87f-a93615908b2d",
   "metadata": {},
   "outputs": [
    {
     "name": "stdout",
     "output_type": "stream",
     "text": [
      "\u001b[1;31mSignature:\u001b[0m \u001b[0mBeamNGpy\u001b[0m\u001b[1;33m.\u001b[0m\u001b[0mset_tod\u001b[0m\u001b[1;33m(\u001b[0m\u001b[0mself\u001b[0m\u001b[1;33m,\u001b[0m \u001b[0mtod\u001b[0m\u001b[1;33m)\u001b[0m\u001b[1;33m\u001b[0m\u001b[1;33m\u001b[0m\u001b[0m\n",
      "\u001b[1;31mDocstring:\u001b[0m\n",
      "Sets the current time of day. The time of day value is given as a float\n",
      "between 0 and 1. How this value affects the lighting of the scene is\n",
      "dependant on the map's TimeOfDay object.\n",
      "\n",
      "Args:\n",
      "    tod (float): Time of day beteen 0 and 1.\n",
      "\u001b[1;31mFile:\u001b[0m      c:\\beamngpy\\src\\beamngpy\\beamng.py\n",
      "\u001b[1;31mType:\u001b[0m      function\n"
     ]
    }
   ],
   "source": [
    "?BeamNGpy.set_tod"
   ]
  },
  {
   "cell_type": "code",
   "execution_count": 19,
   "id": "6cdb3ffb-588a-4fe4-afd8-d9ece7b86087",
   "metadata": {},
   "outputs": [
    {
     "name": "stdout",
     "output_type": "stream",
     "text": [
      "\u001b[1;31mSignature:\u001b[0m \u001b[0mBeamNGpy\u001b[0m\u001b[1;33m.\u001b[0m\u001b[0mpause\u001b[0m\u001b[1;33m(\u001b[0m\u001b[0mself\u001b[0m\u001b[1;33m)\u001b[0m\u001b[1;33m\u001b[0m\u001b[1;33m\u001b[0m\u001b[0m\n",
      "\u001b[1;31mDocstring:\u001b[0m\n",
      "Sends a pause request to BeamNG.*, blocking until the simulation is\n",
      "paused.\n",
      "\u001b[1;31mFile:\u001b[0m      c:\\beamngpy\\src\\beamngpy\\beamng.py\n",
      "\u001b[1;31mType:\u001b[0m      function\n"
     ]
    }
   ],
   "source": [
    "?BeamNGpy.pause"
   ]
  },
  {
   "cell_type": "code",
   "execution_count": 20,
   "id": "544b973c-32cb-471d-87fc-00e7ac06aad1",
   "metadata": {},
   "outputs": [
    {
     "name": "stdout",
     "output_type": "stream",
     "text": [
      "\u001b[1;31mSignature:\u001b[0m \u001b[0mBeamNGpy\u001b[0m\u001b[1;33m.\u001b[0m\u001b[0mresume\u001b[0m\u001b[1;33m(\u001b[0m\u001b[0mself\u001b[0m\u001b[1;33m)\u001b[0m\u001b[1;33m\u001b[0m\u001b[1;33m\u001b[0m\u001b[0m\n",
      "\u001b[1;31mDocstring:\u001b[0m\n",
      "Sends a resume request to BeamNG.*, blocking until the simulation\n",
      "is resumed.\n",
      "\u001b[1;31mFile:\u001b[0m      c:\\beamngpy\\src\\beamngpy\\beamng.py\n",
      "\u001b[1;31mType:\u001b[0m      function\n"
     ]
    }
   ],
   "source": [
    "?BeamNGpy.resume"
   ]
  },
  {
   "cell_type": "code",
   "execution_count": 21,
   "id": "42e68384-805d-4b74-a79e-177cfb2dcbf1",
   "metadata": {},
   "outputs": [
    {
     "name": "stdout",
     "output_type": "stream",
     "text": [
      "\u001b[1;31mSignature:\u001b[0m \u001b[0mBeamNGpy\u001b[0m\u001b[1;33m.\u001b[0m\u001b[0mset_gravity\u001b[0m\u001b[1;33m(\u001b[0m\u001b[0mself\u001b[0m\u001b[1;33m,\u001b[0m \u001b[0mgravity\u001b[0m\u001b[1;33m=\u001b[0m\u001b[1;33m-\u001b[0m\u001b[1;36m9.807\u001b[0m\u001b[1;33m)\u001b[0m\u001b[1;33m\u001b[0m\u001b[1;33m\u001b[0m\u001b[0m\n",
      "\u001b[1;31mDocstring:\u001b[0m\n",
      "Sets the strength of gravity in the simulator.\n",
      "\n",
      "Args:\n",
      "    gravity (float): The gravity value to set. The default one is\n",
      "                     that of earth (-9.807)\n",
      "\u001b[1;31mFile:\u001b[0m      c:\\beamngpy\\src\\beamngpy\\beamng.py\n",
      "\u001b[1;31mType:\u001b[0m      function\n"
     ]
    }
   ],
   "source": [
    "?BeamNGpy.set_gravity"
   ]
  },
  {
   "cell_type": "code",
   "execution_count": 22,
   "id": "b70bae42-b246-44f7-93ed-e575ccd212cc",
   "metadata": {},
   "outputs": [
    {
     "name": "stdout",
     "output_type": "stream",
     "text": [
      "\u001b[1;31mSignature:\u001b[0m \u001b[0mBeamNGpy\u001b[0m\u001b[1;33m.\u001b[0m\u001b[0mdisplay_gui_message\u001b[0m\u001b[1;33m(\u001b[0m\u001b[0mself\u001b[0m\u001b[1;33m,\u001b[0m \u001b[0mmsg\u001b[0m\u001b[1;33m)\u001b[0m\u001b[1;33m\u001b[0m\u001b[1;33m\u001b[0m\u001b[0m\n",
      "\u001b[1;31mDocstring:\u001b[0m\n",
      "Displays a toast message in the user interface of the simulator.\n",
      "\n",
      "Args:\n",
      "    msg (str): The message to display.\n",
      "\u001b[1;31mFile:\u001b[0m      c:\\beamngpy\\src\\beamngpy\\beamng.py\n",
      "\u001b[1;31mType:\u001b[0m      function\n"
     ]
    }
   ],
   "source": [
    "?BeamNGpy.display_gui_message"
   ]
  },
  {
   "cell_type": "markdown",
   "id": "01d42b0d-dec8-4a1e-9c09-ef486789e251",
   "metadata": {},
   "source": [
    "### Change color\n",
    "\n",
    "Cycles through 30 different colors and applies them to the vehicle in sequence."
   ]
  },
  {
   "cell_type": "code",
   "execution_count": 23,
   "id": "1d1706e3-64a6-43af-83a3-63c87a8857cd",
   "metadata": {},
   "outputs": [],
   "source": [
    "def generate_colors(n):\n",
    "    hue = 0.0\n",
    "    step_val = 1.0 / n\n",
    "    for _ in range(n):\n",
    "        rgb = colorsys.hsv_to_rgb(hue, 1, 1)\n",
    "        hue += step_val\n",
    "        hue %= 1.0\n",
    "        yield (*rgb, 1.0)\n",
    "\n",
    "for color in generate_colors(30):\n",
    "    ego.set_color(color)\n",
    "    time.sleep(0.1)\n",
    "ego.set_color((1.0, 0.5, 0.5, 1.0))"
   ]
  },
  {
   "cell_type": "markdown",
   "id": "cc6cca84-7c90-4e36-b3ec-ec4dddc8c621",
   "metadata": {},
   "source": [
    "### Switch lights\n",
    "\n",
    "Switches all lights on and then resets them to the original state."
   ]
  },
  {
   "cell_type": "code",
   "execution_count": 24,
   "id": "ee4314f3-4449-4d33-9f33-2672273885ba",
   "metadata": {},
   "outputs": [],
   "source": [
    "ego.set_lights(left_signal=True, right_signal=True, hazard_signal=True,\n",
    "               headlights=2, fog_lights=2, lightbar=2)"
   ]
  },
  {
   "cell_type": "code",
   "execution_count": 25,
   "id": "f5b89159-1b7b-483a-849b-d3d40247a00f",
   "metadata": {},
   "outputs": [],
   "source": [
    "ego.set_lights(left_signal=False, right_signal=False, hazard_signal=False,\n",
    "               headlights=1, fog_lights=0, lightbar=0)"
   ]
  },
  {
   "cell_type": "markdown",
   "id": "5869734d-9bc2-4c19-b7dc-2d34e4b88b64",
   "metadata": {},
   "source": [
    "### Set time of day"
   ]
  },
  {
   "cell_type": "code",
   "execution_count": 26,
   "id": "1394f26f-d771-4390-af82-8a9cc9312cfc",
   "metadata": {},
   "outputs": [],
   "source": [
    "for t in range(100):\n",
    "    beamng.set_tod(t / 100)\n",
    "    time.sleep(0.1)"
   ]
  },
  {
   "cell_type": "markdown",
   "id": "266d8e01-7b76-432d-a91e-7f812a26016f",
   "metadata": {},
   "source": [
    "### Pause/resume simulation"
   ]
  },
  {
   "cell_type": "code",
   "execution_count": 27,
   "id": "e4ab53c7-c62c-430f-b8e5-af8e5f8fff54",
   "metadata": {},
   "outputs": [],
   "source": [
    "beamng.pause()"
   ]
  },
  {
   "cell_type": "code",
   "execution_count": 28,
   "id": "ae0070ff-3512-4e5e-99de-3a38caaf53d9",
   "metadata": {},
   "outputs": [],
   "source": [
    "beamng.resume()"
   ]
  },
  {
   "cell_type": "markdown",
   "id": "1eea3270-b263-42e1-b416-8f45b42ffa37",
   "metadata": {},
   "source": [
    "### Set gravity"
   ]
  },
  {
   "cell_type": "code",
   "execution_count": 29,
   "id": "d1a9b3d2-1f73-44b9-acc3-068b2fdf5c94",
   "metadata": {},
   "outputs": [],
   "source": [
    "beamng.set_gravity(0)\n",
    "beamng.display_gui_message('Space adventures await!')"
   ]
  },
  {
   "cell_type": "code",
   "execution_count": 30,
   "id": "338d8708-aa2f-4382-bc8f-d162be6cd982",
   "metadata": {},
   "outputs": [],
   "source": [
    "beamng.set_gravity(-50)"
   ]
  },
  {
   "cell_type": "markdown",
   "id": "e7a79113-d4be-4ff3-82ef-bf8c8b89a928",
   "metadata": {},
   "source": [
    "OK, that was too much gravity for the car. Let's reset it back. We also use the `teleport_vehicle` function, which resets the vehicle's physics state (repairs it) as a side effect."
   ]
  },
  {
   "cell_type": "markdown",
   "id": "7969169a-af2f-4417-b293-cba92f62b400",
   "metadata": {},
   "source": [
    "### Teleport vehicle"
   ]
  },
  {
   "cell_type": "markdown",
   "id": "22be8846-ef17-4e30-b509-f15331ebe1af",
   "metadata": {
    "tags": []
   },
   "source": [
    "#### Documentation"
   ]
  },
  {
   "cell_type": "code",
   "execution_count": 31,
   "id": "2e3ad518-2bdf-493a-8e5e-8636f2f08d0e",
   "metadata": {},
   "outputs": [
    {
     "name": "stdout",
     "output_type": "stream",
     "text": [
      "\u001b[1;31mSignature:\u001b[0m \u001b[0mScenario\u001b[0m\u001b[1;33m.\u001b[0m\u001b[0mfind_waypoints\u001b[0m\u001b[1;33m(\u001b[0m\u001b[0mself\u001b[0m\u001b[1;33m)\u001b[0m\u001b[1;33m\u001b[0m\u001b[1;33m\u001b[0m\u001b[0m\n",
      "\u001b[1;31mDocstring:\u001b[0m\n",
      "Finds waypoints placed in the world right now.\n",
      "\n",
      "Returns:\n",
      "    A list of :class:`.ScenarioObject` containing waypoints found in\n",
      "    the world.\n",
      "\n",
      "Raises:\n",
      "    BNGError: If the scenario is not currently loaded.\n",
      "\u001b[1;31mFile:\u001b[0m      c:\\beamngpy\\src\\beamngpy\\scenario.py\n",
      "\u001b[1;31mType:\u001b[0m      function\n"
     ]
    }
   ],
   "source": [
    "?Scenario.find_waypoints"
   ]
  },
  {
   "cell_type": "code",
   "execution_count": 32,
   "id": "153e6357-5dbe-4de4-890d-2da075c45a91",
   "metadata": {},
   "outputs": [
    {
     "name": "stdout",
     "output_type": "stream",
     "text": [
      "\u001b[1;31mSignature:\u001b[0m \u001b[0mVehicle\u001b[0m\u001b[1;33m.\u001b[0m\u001b[0mteleport\u001b[0m\u001b[1;33m(\u001b[0m\u001b[0mself\u001b[0m\u001b[1;33m,\u001b[0m \u001b[0mpos\u001b[0m\u001b[1;33m,\u001b[0m \u001b[0mrot_quat\u001b[0m\u001b[1;33m=\u001b[0m\u001b[1;32mNone\u001b[0m\u001b[1;33m,\u001b[0m \u001b[0mreset\u001b[0m\u001b[1;33m=\u001b[0m\u001b[1;32mTrue\u001b[0m\u001b[1;33m)\u001b[0m\u001b[1;33m\u001b[0m\u001b[1;33m\u001b[0m\u001b[0m\n",
      "\u001b[1;31mDocstring:\u001b[0m\n",
      "Teleports the vehicle to the given position with the given\n",
      "rotation.\n",
      "\n",
      "Args:\n",
      "    pos (tuple): The target position as an (x,y,z) tuple containing\n",
      "                 world-space coordinates.\n",
      "    rot_quat (tuple): Optional tuple (x, y, z, w) specifying vehicle\n",
      "                      rotation as quaternion\n",
      "    reset (bool): Specifies if the vehicle will be reset to its initial\n",
      "                  state during teleport (including its velocity). \n",
      "\n",
      "Notes:\n",
      "    The ``reset=False`` option is incompatible with setting rotation of\n",
      "    the vehicle. With the current implementation, it is not possible to\n",
      "    set the rotation of the vehicle and to keep its velocity during teleport.\n",
      "\u001b[1;31mFile:\u001b[0m      c:\\beamngpy\\src\\beamngpy\\vehicle.py\n",
      "\u001b[1;31mType:\u001b[0m      function\n"
     ]
    }
   ],
   "source": [
    "?Vehicle.teleport"
   ]
  },
  {
   "cell_type": "code",
   "execution_count": 33,
   "id": "4c6bbd32-f240-4793-bb3b-1c926aeed096",
   "metadata": {},
   "outputs": [
    {
     "name": "stdout",
     "output_type": "stream",
     "text": [
      "\u001b[1;31mSignature:\u001b[0m \u001b[0mVehicle\u001b[0m\u001b[1;33m.\u001b[0m\u001b[0mset_shift_mode\u001b[0m\u001b[1;33m(\u001b[0m\u001b[0mself\u001b[0m\u001b[1;33m,\u001b[0m \u001b[0mmode\u001b[0m\u001b[1;33m)\u001b[0m\u001b[1;33m\u001b[0m\u001b[1;33m\u001b[0m\u001b[0m\n",
      "\u001b[1;31mDocstring:\u001b[0m\n",
      "Sets the shifting mode of the vehicle. This changes whether or not and\n",
      "how the vehicle shifts gears depending on the RPM. Available modes are:\n",
      "\n",
      " * ``realistic_manual``: Gears have to be shifted manually by the\n",
      "                         user, including engaging the clutch.\n",
      " * ``realistic_manual_auto_clutch``: Gears have to be shifted manually\n",
      "                                     by the user, without having to\n",
      "                                     use the clutch.\n",
      " * ``arcade``: Gears shift up and down automatically. If the brake is\n",
      "               held, the vehicle automatically shifts into reverse\n",
      "               and accelerates backward until brake is released or\n",
      "               throttle is engaged.\n",
      " * ``realistic_automatic``: Gears shift up automatically, but reverse\n",
      "                            and parking need to be shifted to\n",
      "                            manually.\n",
      "\n",
      "Args:\n",
      "    mode (str): The mode to set. Must be a string from the options\n",
      "                listed above.\n",
      "\n",
      "Raises:\n",
      "    BNGValueError: If an invalid mode is given.\n",
      "\u001b[1;31mFile:\u001b[0m      c:\\beamngpy\\src\\beamngpy\\vehicle.py\n",
      "\u001b[1;31mType:\u001b[0m      function\n"
     ]
    }
   ],
   "source": [
    "?Vehicle.set_shift_mode"
   ]
  },
  {
   "cell_type": "code",
   "execution_count": 34,
   "id": "a2dd7470-c35e-4ccc-a957-36d5b4e5ba42",
   "metadata": {},
   "outputs": [
    {
     "name": "stdout",
     "output_type": "stream",
     "text": [
      "\u001b[1;31mSignature:\u001b[0m \u001b[0mVehicle\u001b[0m\u001b[1;33m.\u001b[0m\u001b[0mcontrol\u001b[0m\u001b[1;33m(\u001b[0m\u001b[0mself\u001b[0m\u001b[1;33m,\u001b[0m \u001b[1;33m**\u001b[0m\u001b[0moptions\u001b[0m\u001b[1;33m)\u001b[0m\u001b[1;33m\u001b[0m\u001b[1;33m\u001b[0m\u001b[0m\n",
      "\u001b[1;31mDocstring:\u001b[0m\n",
      "Sends a control message to the vehicle, setting vehicle inputs\n",
      "accordingly. Possible values to set are:\n",
      "\n",
      " * ``steering``: Rotation of the steering wheel, from -1.0 to 1.0.\n",
      " * ``throttle``: Intensity of the throttle, from 0.0 to 1.0.\n",
      " * ``brake``: Intensity of the brake, from 0.0 to 1.0.\n",
      " * ``parkingbrake``: Intensity of the parkingbrake, from 0.0 to 1.0.\n",
      " * ``clutch``: Clutch level, from 0.0 to 1.0.\n",
      " * ``gear``: Gear to shift to, -1 eq backwards, 0 eq neutral, 1 to X eq nth gear\n",
      "\n",
      "Args:\n",
      "    **kwargs (dict): The input values to set.\n",
      "\u001b[1;31mFile:\u001b[0m      c:\\beamngpy\\src\\beamngpy\\vehicle.py\n",
      "\u001b[1;31mType:\u001b[0m      function\n"
     ]
    }
   ],
   "source": [
    "?Vehicle.control"
   ]
  },
  {
   "cell_type": "code",
   "execution_count": 35,
   "id": "1b50bdb0-7eaa-4b62-9078-9ef293df2d36",
   "metadata": {},
   "outputs": [
    {
     "name": "stdout",
     "output_type": "stream",
     "text": [
      "\u001b[1;31mSignature:\u001b[0m \u001b[0mVehicle\u001b[0m\u001b[1;33m.\u001b[0m\u001b[0mset_velocity\u001b[0m\u001b[1;33m(\u001b[0m\u001b[0mself\u001b[0m\u001b[1;33m,\u001b[0m \u001b[0mvelocity\u001b[0m\u001b[1;33m,\u001b[0m \u001b[0mdt\u001b[0m\u001b[1;33m=\u001b[0m\u001b[1;36m1.0\u001b[0m\u001b[1;33m)\u001b[0m\u001b[1;33m\u001b[0m\u001b[1;33m\u001b[0m\u001b[0m\n",
      "\u001b[1;31mDocstring:\u001b[0m\n",
      "Sets the velocity of this vehicle. The velocity is not achieved instantly,\n",
      "it is acquired gradually over the time interval set by the `dt` argument.\n",
      "\n",
      "As the method of setting velocity uses physical forces, at high velocities\n",
      "it is important to set `dt` to an appropriately high value. The default\n",
      "`dt` value of 1.0 is suitable for velocities up to 30 m/s.\n",
      "\n",
      "Args:\n",
      "    velocity (float): The target velocity in m/s.\n",
      "    dt (float): The time interval over which the vehicle reaches the\n",
      "                target velocity. Defaults to 1.0.\n",
      "\u001b[1;31mFile:\u001b[0m      c:\\beamngpy\\src\\beamngpy\\vehicle.py\n",
      "\u001b[1;31mType:\u001b[0m      function\n"
     ]
    }
   ],
   "source": [
    "?Vehicle.set_velocity"
   ]
  },
  {
   "cell_type": "markdown",
   "id": "57dd1e4e-c919-4ea6-8417-7dc57b4d7ba8",
   "metadata": {},
   "source": [
    "#### Code"
   ]
  },
  {
   "cell_type": "code",
   "execution_count": 36,
   "id": "770edd59-06ce-47f2-be10-54bfe4ad41cc",
   "metadata": {},
   "outputs": [],
   "source": [
    "# reset gravity, disable AI\n",
    "beamng.set_gravity()\n",
    "ego.ai_set_mode('disabled')"
   ]
  },
  {
   "cell_type": "code",
   "execution_count": 37,
   "id": "8bfc6d12-8545-427a-8675-6715592aaf3b",
   "metadata": {},
   "outputs": [
    {
     "data": {
      "text/plain": [
       "True"
      ]
     },
     "execution_count": 37,
     "metadata": {},
     "output_type": "execute_result"
    }
   ],
   "source": [
    "waypoints = {w.name: w for w in scenario.find_waypoints()} # get a list of locations from the simulation\n",
    "\n",
    "ego.teleport(waypoints['city_east_bridge1_b'].pos, rot_quat=(0.0011, 0.0315, 0.9995, -0.0096))"
   ]
  },
  {
   "cell_type": "markdown",
   "id": "437b2fb7-7e0d-434e-b5b3-101bd73a689c",
   "metadata": {},
   "source": [
    "If we need to teleport a moving vehicle to some position and keep it moving, we set the `reset` argument of `Vehicle.teleport` to `False`."
   ]
  },
  {
   "cell_type": "code",
   "execution_count": 38,
   "id": "78e5b85f-4013-4660-83d7-1e43985e7b4e",
   "metadata": {},
   "outputs": [],
   "source": [
    "# get the vehicle moving\n",
    "ego.set_shift_mode('arcade')\n",
    "ego.control(gear=1, throttle=0.1)\n",
    "ego.set_velocity(10)\n",
    "\n",
    "# wait some time\n",
    "time.sleep(2.0)\n",
    "\n",
    "# teleport the vehicle and enable AI again\n",
    "ego.teleport((244.87, -926.57, 251.89), reset=False)\n",
    "ego.ai_set_mode('span')\n",
    "ego.ai_drive_in_lane(True)"
   ]
  },
  {
   "cell_type": "markdown",
   "id": "cd2b943e-a09c-49d1-9e6d-3aec5103f344",
   "metadata": {},
   "source": [
    "## Traffic\n",
    "\n",
    "To enable traffic, we first spawn a set of vehicles that will be in the traffic pool, and then use the `start_traffic` function. With the traffic, we are no longer alone in this simulation!"
   ]
  },
  {
   "cell_type": "markdown",
   "id": "13dbb455-4442-4ef8-a288-10954138509d",
   "metadata": {
    "tags": []
   },
   "source": [
    "#### Documentation"
   ]
  },
  {
   "cell_type": "code",
   "execution_count": 39,
   "id": "25e12476-2ca0-4366-8774-2420460638e3",
   "metadata": {},
   "outputs": [
    {
     "name": "stdout",
     "output_type": "stream",
     "text": [
      "\u001b[1;31mSignature:\u001b[0m \u001b[0mBeamNGpy\u001b[0m\u001b[1;33m.\u001b[0m\u001b[0mget_available_vehicles\u001b[0m\u001b[1;33m(\u001b[0m\u001b[0mself\u001b[0m\u001b[1;33m)\u001b[0m\u001b[1;33m\u001b[0m\u001b[1;33m\u001b[0m\u001b[0m\n",
      "\u001b[1;31mDocstring:\u001b[0m\n",
      "Retrieves a dictionary of vehicles known to the simulator that map\n",
      "to various properties of the vehicle and a list of pre-configured\n",
      "vehicle configurations.\n",
      "\n",
      "Returns:\n",
      "    A mapping of model names to vehicle properties & configs.\n",
      "\n",
      "Raises:\n",
      "    BNGError: If the game is not running to accept a request.\n",
      "\u001b[1;31mFile:\u001b[0m      c:\\beamngpy\\src\\beamngpy\\beamng.py\n",
      "\u001b[1;31mType:\u001b[0m      function\n"
     ]
    }
   ],
   "source": [
    "?BeamNGpy.get_available_vehicles"
   ]
  },
  {
   "cell_type": "code",
   "execution_count": 40,
   "id": "64c240de-a285-4b78-b912-227f604c7e9d",
   "metadata": {},
   "outputs": [
    {
     "name": "stdout",
     "output_type": "stream",
     "text": [
      "\u001b[1;31mSignature:\u001b[0m \u001b[0mBeamNGpy\u001b[0m\u001b[1;33m.\u001b[0m\u001b[0mstart_traffic\u001b[0m\u001b[1;33m(\u001b[0m\u001b[0mself\u001b[0m\u001b[1;33m,\u001b[0m \u001b[0mparticipants\u001b[0m\u001b[1;33m)\u001b[0m\u001b[1;33m\u001b[0m\u001b[1;33m\u001b[0m\u001b[0m\n",
      "\u001b[1;31mDocstring:\u001b[0m\n",
      "Enables traffic simulation for the given list of vehicles.\n",
      "\n",
      "Args:\n",
      "    participants (list): List of vehicles that will be part of the\n",
      "                         simulation. These vehicles need to be spawned\n",
      "                         beforehand and the simulation will take\n",
      "                         control of them.\n",
      "\u001b[1;31mFile:\u001b[0m      c:\\beamngpy\\src\\beamngpy\\beamng.py\n",
      "\u001b[1;31mType:\u001b[0m      function\n"
     ]
    }
   ],
   "source": [
    "?BeamNGpy.start_traffic"
   ]
  },
  {
   "cell_type": "code",
   "execution_count": 41,
   "id": "61462d78-78a6-48d1-be13-02384926af37",
   "metadata": {},
   "outputs": [
    {
     "name": "stdout",
     "output_type": "stream",
     "text": [
      "\u001b[1;31mSignature:\u001b[0m \u001b[0mBeamNGpy\u001b[0m\u001b[1;33m.\u001b[0m\u001b[0mswitch_vehicle\u001b[0m\u001b[1;33m(\u001b[0m\u001b[0mself\u001b[0m\u001b[1;33m,\u001b[0m \u001b[0mvehicle\u001b[0m\u001b[1;33m)\u001b[0m\u001b[1;33m\u001b[0m\u001b[1;33m\u001b[0m\u001b[0m\n",
      "\u001b[1;31mDocstring:\u001b[0m\n",
      "Switches to the given :class:`.Vehicle`. This means that the\n",
      "simulator's main camera, inputs by the user, and so on will all focus\n",
      "on that vehicle from now on.\n",
      "\n",
      "Args:\n",
      "    vehicle (:class:`.Vehicle`): The target vehicle.\n",
      "\u001b[1;31mFile:\u001b[0m      c:\\beamngpy\\src\\beamngpy\\beamng.py\n",
      "\u001b[1;31mType:\u001b[0m      function\n"
     ]
    }
   ],
   "source": [
    "?BeamNGpy.switch_vehicle"
   ]
  },
  {
   "cell_type": "markdown",
   "id": "e76e931b-91dc-496b-a68f-8d10ec47ba35",
   "metadata": {},
   "source": [
    "#### Code"
   ]
  },
  {
   "cell_type": "code",
   "execution_count": 42,
   "id": "c01ac320-feb7-4d45-b705-eb119450bfb5",
   "metadata": {},
   "outputs": [
    {
     "name": "stdout",
     "output_type": "stream",
     "text": [
      "The available vehicles to spawn are: ['midtruck', 'miramar', 'wendover', 'burnside', 'tanker', 'sbr', 'cones', 'coltester', 'christmas_tree', 'chair', 'carlift', 'cargotrailer', 'wall', 'box', 'piano', 'pessima', 'openwheel', 'nb_test_rack', 'metal_ramp', 'crawler', 'frameless_dump', 'flipramp', 'semi', 'blockwall', 'bathtub', 'flatbed', 'couch', 'dryvan', 'metal_box', 'rolling_res_tester', 'bolide', 'rocks', 'citybus', 'log_tester', 'barrier_plastic', 'barrier', 'tv', 'gate', 'ball', 'unicycle', 'trashbin', 'drone', 'trackedvehicle', 'torsionreactor', 'tirewall', 'large_tire', 'tiretester', 'tirestacks', 'large_roller', 'large_hamster_wheel', 'bluebuck', 'large_cannon', 'large_bridge', 'large_bat', 'large_angletester', 'kickplate', 'inflated_mat', 'idealcar3', 'suspensionbridge', 'fullsize', 'streetlight', 'strap', 'coupe', 'etk800', 'etkc', 'haybale', 'etki', 'legran', 'midsize', 'bastion', 'sunburst', 'fridge', 'f320', 'f317', 'weightpad', 'flail', 'atv', 'sawhorse', 'rollover', 'covet', 'van', 'pigeon', 'pickup', 'car_crusher', 'cardboard_box', 'roamer', 'caravan', 'tsfb', 'wloader', 'shock_test', 'roadsigns', 'bollard', 'large_tilt', 'autobello', 'humvee', 'airbag_test', 'rallytruck', 'racetruck', 'prosav', 'pressure_ball', 'atcrane', 'trafficbarrel', 'boxutility_large', 'large_spinner', 'dynamic_col_tester', 'pierce_tester', 'tube', 'idealcar2', 'woodcrate', 'drag_tester', 'large_crusher', 'cannon', 'loose_wheels', 'moonhawk', 'boxutility', 'delineator', 'mattress', 'crashbarrier', 'tiretester_2', 'shipping_container', 'testroller', 'idealcar', 'hopper', 'barrels', 'dyno', 'scintilla', 'vivace', 'barstow', 'wigeon', 'woodplanks']\n"
     ]
    }
   ],
   "source": [
    "print('The available vehicles to spawn are:', list(beamng.get_available_vehicles()['vehicles'].keys()))"
   ]
  },
  {
   "cell_type": "code",
   "execution_count": 43,
   "id": "034eefe6-9a44-4e3a-9df3-6da76e0b9356",
   "metadata": {},
   "outputs": [],
   "source": [
    "traffic_vehicles = [\n",
    "    Vehicle('traffic1', model='miramar'),\n",
    "    Vehicle('traffic2', model='moonhawk'),\n",
    "    Vehicle('traffic3', model='sbr'),\n",
    "    Vehicle('traffic4', model='etki'),\n",
    "]\n",
    "for vehicle in traffic_vehicles:\n",
    "    scenario.add_vehicle(vehicle, (244.87, -926.57, 251.89), rot_quat=(0, 0, 0, 1))\n",
    "    \n",
    "beamng.start_traffic(traffic_vehicles)\n",
    "ego.teleport((-692.93, -1341.58, 140.60), rot_quat=(0.0000, 0.0000, 0.6757, 0.7372))\n",
    "beamng.switch_vehicle(ego)"
   ]
  },
  {
   "cell_type": "markdown",
   "id": "3bb41b9c-7060-45aa-9280-ebedf25e3e0a",
   "metadata": {},
   "source": [
    "## Sensors\n",
    "\n",
    "Vehicles can be provided with sensors, which capture the simulation and vehicle state data.\n",
    "There are currently two classes of sensor, which have slightly different APIs.\n",
    "\n",
    "The first class of sensors are our `Automated Sensors`. These sensors are created with parameters to allow them to update automatically in the simulator at a given time, and with a given priority.  This management is needed when we wish to run the simulation with many sensors.  These sensors (with the exception of the accelerometer) can be attached to fixed points on the map, as well as to positions on or relative to vehicles.\n",
    "These sensors can also be set to not update automatically, if desired.  We can poll these sensors in two ways: i) by getting the latest readings which were polled at the set update time for the sensor, or ii) by sending ad-hoc requests for data, which can be used if we only want occasional reading on-the-fly.\n",
    "- Camera (providing colour images, class annotation images, semantic annotation images, and depth images)\n",
    "- LiDAR (providing point cloud and/or annotation colour data)\n",
    "- Ultrasonic Sensor (eg can be used as a parking sensor)\n",
    "- Accelerometer (a tri-axial accelerometer, providing a vehicles acceleration in a local coordinate system)\n",
    "\n",
    "The second class of sensors are not automated currently, and use the older API.  These are polled in an ad-hoc fashion.\n",
    "- IMU (Inertial Measurement Unit)\n",
    "- Electrics\n",
    "- Vehicle state\n",
    "\n",
    "Let's see how we can use these sensors in BeamNGpy. We respawn our vehicle with multiple sensors and get data from them."
   ]
  },
  {
   "cell_type": "markdown",
   "id": "16265028-4c29-40d4-b08a-be1a8310fb75",
   "metadata": {
    "tags": []
   },
   "source": [
    "#### Documentation"
   ]
  },
  {
   "cell_type": "code",
   "execution_count": 44,
   "id": "527ee217-21de-4240-88bf-fcffe0e66c09",
   "metadata": {},
   "outputs": [
    {
     "name": "stdout",
     "output_type": "stream",
     "text": [
      "\u001b[1;31mSignature:\u001b[0m \u001b[0mScenario\u001b[0m\u001b[1;33m.\u001b[0m\u001b[0mremove_vehicle\u001b[0m\u001b[1;33m(\u001b[0m\u001b[0mself\u001b[0m\u001b[1;33m,\u001b[0m \u001b[0mvehicle\u001b[0m\u001b[1;33m)\u001b[0m\u001b[1;33m\u001b[0m\u001b[1;33m\u001b[0m\u001b[0m\n",
      "\u001b[1;31mDocstring:\u001b[0m\n",
      "Removes the given :class:`.Vehicle`: from this scenario. If the\n",
      "scenario is currently loaded, the vehicle will be despawned.\n",
      "\n",
      "Args:\n",
      "    vehicle (:class:`.Vehicle`): The vehicle to remove.\n",
      "\u001b[1;31mFile:\u001b[0m      c:\\beamngpy\\src\\beamngpy\\scenario.py\n",
      "\u001b[1;31mType:\u001b[0m      function\n"
     ]
    }
   ],
   "source": [
    "?Scenario.remove_vehicle"
   ]
  },
  {
   "cell_type": "code",
   "execution_count": 45,
   "id": "26189871-923a-4f8c-a239-8c6f4fd91fbb",
   "metadata": {},
   "outputs": [
    {
     "name": "stdout",
     "output_type": "stream",
     "text": [
      "\u001b[1;31mSignature:\u001b[0m \u001b[0mVehicle\u001b[0m\u001b[1;33m.\u001b[0m\u001b[0mattach_sensor\u001b[0m\u001b[1;33m(\u001b[0m\u001b[0mself\u001b[0m\u001b[1;33m,\u001b[0m \u001b[0mname\u001b[0m\u001b[1;33m,\u001b[0m \u001b[0msensor\u001b[0m\u001b[1;33m)\u001b[0m\u001b[1;33m\u001b[0m\u001b[1;33m\u001b[0m\u001b[0m\n",
      "\u001b[1;31mDocstring:\u001b[0m\n",
      "Enters a sensor into this vehicle's map of known sensors and calls the\n",
      "attach-hook of said sensor. The sensor is identified using the given\n",
      "name, which has to be unique among the other sensors of the vehicle.\n",
      "\n",
      "Args:\n",
      "    name (str): The name of the sensor.\n",
      "    sensor (:class:`beamngpy.Sensor`): The sensor to attach to the\n",
      "                                       vehicle.\n",
      "\u001b[1;31mFile:\u001b[0m      c:\\beamngpy\\src\\beamngpy\\vehicle.py\n",
      "\u001b[1;31mType:\u001b[0m      function\n"
     ]
    }
   ],
   "source": [
    "?Vehicle.attach_sensor"
   ]
  },
  {
   "cell_type": "code",
   "execution_count": 46,
   "id": "0a0e27c4-0b75-4eb0-b23a-3a47cd42be5d",
   "metadata": {},
   "outputs": [
    {
     "name": "stdout",
     "output_type": "stream",
     "text": [
      "\u001b[1;31mSignature:\u001b[0m \u001b[0mVehicle\u001b[0m\u001b[1;33m.\u001b[0m\u001b[0mpoll_sensors\u001b[0m\u001b[1;33m(\u001b[0m\u001b[0mself\u001b[0m\u001b[1;33m)\u001b[0m\u001b[1;33m\u001b[0m\u001b[1;33m\u001b[0m\u001b[0m\n",
      "\u001b[1;31mDocstring:\u001b[0m\n",
      "Updates the vehicle's sensor readings.\n",
      "\n",
      "Args:\n",
      "    requests (None): This function parameter is not used and will be\n",
      "                     removed in future versions.\n",
      "\n",
      "Returns:\n",
      "    Dict with sensor data to support compatibility with\n",
      "    previous versions.\n",
      "    Use `vehicle.sensors[<sensor_id>].data[<data_access_id>]` to\n",
      "    access the polled sensor data.\n",
      "\u001b[1;31mFile:\u001b[0m      c:\\beamngpy\\src\\beamngpy\\vehicle.py\n",
      "\u001b[1;31mType:\u001b[0m      function\n"
     ]
    }
   ],
   "source": [
    "?Vehicle.poll_sensors"
   ]
  },
  {
   "cell_type": "markdown",
   "id": "c6c21487-9b1f-4bb5-acaa-664446775910",
   "metadata": {},
   "source": [
    "#### Code"
   ]
  },
  {
   "cell_type": "markdown",
   "id": "93980950-7485-49d9-b09f-516356eb095c",
   "metadata": {
    "tags": []
   },
   "source": [
    "### Camera sensor\n",
    "\n",
    "Camera sensor provides visual information about the environment. Colour camera provides the same visuals as the simulation. Annotation camera provides object annotations - every object class is annotated with a different color. Instance camera provides instance annotation - every object instance is annotated with a different color. And the depth camera provides depth information of the environment."
   ]
  },
  {
   "cell_type": "markdown",
   "id": "25b14cad-73ad-4772-b61f-85ba60830a0d",
   "metadata": {
    "tags": []
   },
   "source": [
    "#### Documentation"
   ]
  },
  {
   "cell_type": "code",
   "execution_count": 47,
   "id": "5579f187-4a56-44b6-9742-db5c695fcfa6",
   "metadata": {},
   "outputs": [
    {
     "name": "stdout",
     "output_type": "stream",
     "text": [
      "\u001b[1;31mInit signature:\u001b[0m\n",
      "\u001b[0mCamera\u001b[0m\u001b[1;33m(\u001b[0m\u001b[1;33m\n",
      "\u001b[0m    \u001b[0mname\u001b[0m\u001b[1;33m,\u001b[0m\u001b[1;33m\n",
      "\u001b[0m    \u001b[0mbng\u001b[0m\u001b[1;33m,\u001b[0m\u001b[1;33m\n",
      "\u001b[0m    \u001b[0mvehicle\u001b[0m\u001b[1;33m=\u001b[0m\u001b[1;32mNone\u001b[0m\u001b[1;33m,\u001b[0m\u001b[1;33m\n",
      "\u001b[0m    \u001b[0mrequested_update_time\u001b[0m\u001b[1;33m=\u001b[0m\u001b[1;36m0.1\u001b[0m\u001b[1;33m,\u001b[0m\u001b[1;33m\n",
      "\u001b[0m    \u001b[0mupdate_priority\u001b[0m\u001b[1;33m=\u001b[0m\u001b[1;36m0.0\u001b[0m\u001b[1;33m,\u001b[0m\u001b[1;33m\n",
      "\u001b[0m    \u001b[0mpos\u001b[0m\u001b[1;33m=\u001b[0m\u001b[1;33m(\u001b[0m\u001b[1;36m0\u001b[0m\u001b[1;33m,\u001b[0m \u001b[1;36m0\u001b[0m\u001b[1;33m,\u001b[0m \u001b[1;36m3\u001b[0m\u001b[1;33m)\u001b[0m\u001b[1;33m,\u001b[0m\u001b[1;33m\n",
      "\u001b[0m    \u001b[0mdir\u001b[0m\u001b[1;33m=\u001b[0m\u001b[1;33m(\u001b[0m\u001b[1;36m0\u001b[0m\u001b[1;33m,\u001b[0m \u001b[1;33m-\u001b[0m\u001b[1;36m1\u001b[0m\u001b[1;33m,\u001b[0m \u001b[1;36m0\u001b[0m\u001b[1;33m)\u001b[0m\u001b[1;33m,\u001b[0m\u001b[1;33m\n",
      "\u001b[0m    \u001b[0mup\u001b[0m\u001b[1;33m=\u001b[0m\u001b[1;33m(\u001b[0m\u001b[1;36m0\u001b[0m\u001b[1;33m,\u001b[0m \u001b[1;36m0\u001b[0m\u001b[1;33m,\u001b[0m \u001b[1;36m1\u001b[0m\u001b[1;33m)\u001b[0m\u001b[1;33m,\u001b[0m\u001b[1;33m\n",
      "\u001b[0m    \u001b[0mresolution\u001b[0m\u001b[1;33m=\u001b[0m\u001b[1;33m(\u001b[0m\u001b[1;36m512\u001b[0m\u001b[1;33m,\u001b[0m \u001b[1;36m512\u001b[0m\u001b[1;33m)\u001b[0m\u001b[1;33m,\u001b[0m\u001b[1;33m\n",
      "\u001b[0m    \u001b[0mfield_of_view_y\u001b[0m\u001b[1;33m=\u001b[0m\u001b[1;36m70\u001b[0m\u001b[1;33m,\u001b[0m\u001b[1;33m\n",
      "\u001b[0m    \u001b[0mnear_far_planes\u001b[0m\u001b[1;33m=\u001b[0m\u001b[1;33m(\u001b[0m\u001b[1;36m0.05\u001b[0m\u001b[1;33m,\u001b[0m \u001b[1;36m100.0\u001b[0m\u001b[1;33m)\u001b[0m\u001b[1;33m,\u001b[0m\u001b[1;33m\n",
      "\u001b[0m    \u001b[0mis_using_shared_memory\u001b[0m\u001b[1;33m=\u001b[0m\u001b[1;32mTrue\u001b[0m\u001b[1;33m,\u001b[0m\u001b[1;33m\n",
      "\u001b[0m    \u001b[0mis_render_colours\u001b[0m\u001b[1;33m=\u001b[0m\u001b[1;32mTrue\u001b[0m\u001b[1;33m,\u001b[0m\u001b[1;33m\n",
      "\u001b[0m    \u001b[0mis_render_annotations\u001b[0m\u001b[1;33m=\u001b[0m\u001b[1;32mTrue\u001b[0m\u001b[1;33m,\u001b[0m\u001b[1;33m\n",
      "\u001b[0m    \u001b[0mis_render_instance\u001b[0m\u001b[1;33m=\u001b[0m\u001b[1;32mFalse\u001b[0m\u001b[1;33m,\u001b[0m\u001b[1;33m\n",
      "\u001b[0m    \u001b[0mis_render_depth\u001b[0m\u001b[1;33m=\u001b[0m\u001b[1;32mTrue\u001b[0m\u001b[1;33m,\u001b[0m\u001b[1;33m\n",
      "\u001b[0m    \u001b[0mis_depth_inverted\u001b[0m\u001b[1;33m=\u001b[0m\u001b[1;32mFalse\u001b[0m\u001b[1;33m,\u001b[0m\u001b[1;33m\n",
      "\u001b[0m    \u001b[0mis_visualised\u001b[0m\u001b[1;33m=\u001b[0m\u001b[1;32mTrue\u001b[0m\u001b[1;33m,\u001b[0m\u001b[1;33m\n",
      "\u001b[0m    \u001b[0mis_static\u001b[0m\u001b[1;33m=\u001b[0m\u001b[1;32mFalse\u001b[0m\u001b[1;33m,\u001b[0m\u001b[1;33m\n",
      "\u001b[0m    \u001b[0mis_snapping_desired\u001b[0m\u001b[1;33m=\u001b[0m\u001b[1;32mFalse\u001b[0m\u001b[1;33m,\u001b[0m\u001b[1;33m\n",
      "\u001b[0m    \u001b[0mis_force_inside_triangle\u001b[0m\u001b[1;33m=\u001b[0m\u001b[1;32mFalse\u001b[0m\u001b[1;33m,\u001b[0m\u001b[1;33m\n",
      "\u001b[0m\u001b[1;33m)\u001b[0m\u001b[1;33m\u001b[0m\u001b[1;33m\u001b[0m\u001b[0m\n",
      "\u001b[1;31mDocstring:\u001b[0m      <no docstring>\n",
      "\u001b[1;31mInit docstring:\u001b[0m\n",
      "Creates a camera sensor.\n",
      "\n",
      "Args:\n",
      "    name (str): A unique name for this camera sensor.\n",
      "    bng (BeamNGpy): The BeamNGpy instance, with which to communicate to the simulation.\n",
      "    vehicle (Vehicle class): The vehicle to which this sensor should be attached, if any.\n",
      "    requested_update_time (float): The time which should pass between sensor reading updates, in seconds. This is just a suggestion to the manager.\n",
      "    update_priority (float): The priority which the sensor should ask for new readings. lowest -> 0, highest -> 1.\n",
      "    pos (tuple): (X, Y, Z) Coordinate triplet specifying the position of the sensor, in world space.\n",
      "    dir (tuple): (X, Y, Z) Coordinate triplet specifying the forward direction of the sensor.\n",
      "    up (tuple): (X, Y, Z) Coordinate triplet specifying the up direction of the sensor.\n",
      "    resolution (tuple): (X, Y) The resolution of the sensor images.\n",
      "    field_of_view_y (float): The sensor vertical field of view parameters.\n",
      "    near_far_planes (tuple): (X, Y) The sensor near and far plane distances.\n",
      "    is_using_shared_memory (bool): A flag which indicates if we should use shared memory to send/recieve the sensor readings data.\n",
      "    is_render_colours (bool): A flag which indicates if this sensor should render colour data.\n",
      "    is_render_annotations (bool): A flag which indicates if this sensor should render semantic annotation data.\n",
      "    is_render_instance (bool): A flag which indicates if this sensor should render instance annotation data.\n",
      "    is_render_depth (bool): A flag which indicates if this sensor should render depth data.\n",
      "    is_depth_inverted (bool): A flag which indicates if the depth values should be shown white->black or black->white, as distance increases.\n",
      "    is_visualised (bool): A flag which indicates if this LiDAR sensor should appear visualised or not.\n",
      "    is_static (bool): A flag which indicates whether this sensor should be static (fixed position), or attached to a vehicle.\n",
      "    is_snapping_desired (bool): A flag which indicates whether or not to snap the sensor to the nearest vehicle triangle (not used for static sensors).\n",
      "    is_force_inside_triangle (bool): A flag which indicates if the sensor should be forced inside the nearest vehicle triangle (not used for static sensors).\n",
      "\u001b[1;31mFile:\u001b[0m           c:\\beamngpy\\src\\beamngpy\\sensors\\camera.py\n",
      "\u001b[1;31mType:\u001b[0m           type\n",
      "\u001b[1;31mSubclasses:\u001b[0m     \n"
     ]
    }
   ],
   "source": [
    "?Camera"
   ]
  },
  {
   "cell_type": "markdown",
   "id": "6d77873b-2ef1-4a4e-b8c0-dbf4b839108e",
   "metadata": {},
   "source": [
    "#### Code"
   ]
  },
  {
   "cell_type": "code",
   "execution_count": 48,
   "id": "3e8aeafc-cfed-4385-858a-6b746891cbfe",
   "metadata": {},
   "outputs": [],
   "source": [
    "camera = Camera('camera1', beamng, vehicle)\n",
    "time.sleep(2)\n",
    "data = camera.poll()"
   ]
  },
  {
   "cell_type": "code",
   "execution_count": 56,
   "id": "5326cd6a-49ee-40dc-93f0-a4c18768bf5b",
   "metadata": {},
   "outputs": [
    {
     "data": {
      "image/png": "[encoded data removed]",
      "text/plain": [
       "<Figure size 720x720 with 4 Axes>"
      ]
     },
     "metadata": {
      "needs_background": "light"
     },
     "output_type": "display_data"
    }
   ],
   "source": [
    "fig, ax = plt.subplots(2, 2, figsize=(10, 10))\n",
    "[axi.set_axis_off() for axi in ax.ravel()]\n",
    "ax[0, 0].title.set_text('Camera')\n",
    "ax[0, 1].title.set_text('Depth')\n",
    "ax[1, 0].title.set_text('Class Annotation')\n",
    "\n",
    "for _ in range(10):\n",
    "    ax[0, 0].imshow(np.asarray(data['colour'].convert('RGB')))\n",
    "    ax[0, 1].imshow(np.asarray(data['depth'].convert('RGB')))\n",
    "    ax[1, 0].imshow(np.asarray(data['annotation'].convert('RGB')))\n",
    "    display(fig)\n",
    "    clear_output(wait=True)"
   ]
  },
  {
   "cell_type": "markdown",
   "id": "a5974415-e9dc-4196-a31e-44f0aa677837",
   "metadata": {
    "tags": []
   },
   "source": [
    "### LiDAR\n",
    "\n",
    "Another sensor provided by the simulation is LiDAR. The LiDAR sensor provides 3D point clouds representing the environment as detected by a pulsing laser emitted from the vehicle."
   ]
  },
  {
   "cell_type": "markdown",
   "id": "fc2bb03d-c7c9-413d-993a-b98c40ccb8b7",
   "metadata": {
    "tags": []
   },
   "source": [
    "#### Documentation"
   ]
  },
  {
   "cell_type": "code",
   "execution_count": 57,
   "id": "252356b9-09ae-48cc-860a-e1629c9da6e8",
   "metadata": {},
   "outputs": [
    {
     "name": "stdout",
     "output_type": "stream",
     "text": [
      "\u001b[1;31mInit signature:\u001b[0m\n",
      "\u001b[0mLidar\u001b[0m\u001b[1;33m(\u001b[0m\u001b[1;33m\n",
      "\u001b[0m    \u001b[0mname\u001b[0m\u001b[1;33m,\u001b[0m\u001b[1;33m\n",
      "\u001b[0m    \u001b[0mbng\u001b[0m\u001b[1;33m,\u001b[0m\u001b[1;33m\n",
      "\u001b[0m    \u001b[0mvehicle\u001b[0m\u001b[1;33m=\u001b[0m\u001b[1;32mNone\u001b[0m\u001b[1;33m,\u001b[0m\u001b[1;33m\n",
      "\u001b[0m    \u001b[0mrequested_update_time\u001b[0m\u001b[1;33m=\u001b[0m\u001b[1;36m0.1\u001b[0m\u001b[1;33m,\u001b[0m\u001b[1;33m\n",
      "\u001b[0m    \u001b[0mupdate_priority\u001b[0m\u001b[1;33m=\u001b[0m\u001b[1;36m0.0\u001b[0m\u001b[1;33m,\u001b[0m\u001b[1;33m\n",
      "\u001b[0m    \u001b[0mpos\u001b[0m\u001b[1;33m=\u001b[0m\u001b[1;33m(\u001b[0m\u001b[1;36m0\u001b[0m\u001b[1;33m,\u001b[0m \u001b[1;36m0\u001b[0m\u001b[1;33m,\u001b[0m \u001b[1;36m1.7\u001b[0m\u001b[1;33m)\u001b[0m\u001b[1;33m,\u001b[0m\u001b[1;33m\n",
      "\u001b[0m    \u001b[0mdir\u001b[0m\u001b[1;33m=\u001b[0m\u001b[1;33m(\u001b[0m\u001b[1;36m0\u001b[0m\u001b[1;33m,\u001b[0m \u001b[1;33m-\u001b[0m\u001b[1;36m1\u001b[0m\u001b[1;33m,\u001b[0m \u001b[1;36m0\u001b[0m\u001b[1;33m)\u001b[0m\u001b[1;33m,\u001b[0m\u001b[1;33m\n",
      "\u001b[0m    \u001b[0mup\u001b[0m\u001b[1;33m=\u001b[0m\u001b[1;33m(\u001b[0m\u001b[1;36m0\u001b[0m\u001b[1;33m,\u001b[0m \u001b[1;36m0\u001b[0m\u001b[1;33m,\u001b[0m \u001b[1;36m1\u001b[0m\u001b[1;33m)\u001b[0m\u001b[1;33m,\u001b[0m\u001b[1;33m\n",
      "\u001b[0m    \u001b[0mvertical_resolution\u001b[0m\u001b[1;33m=\u001b[0m\u001b[1;36m64\u001b[0m\u001b[1;33m,\u001b[0m\u001b[1;33m\n",
      "\u001b[0m    \u001b[0mvertical_angle\u001b[0m\u001b[1;33m=\u001b[0m\u001b[1;36m26.9\u001b[0m\u001b[1;33m,\u001b[0m\u001b[1;33m\n",
      "\u001b[0m    \u001b[0mrays_per_second\u001b[0m\u001b[1;33m=\u001b[0m\u001b[1;36m2200000\u001b[0m\u001b[1;33m,\u001b[0m\u001b[1;33m\n",
      "\u001b[0m    \u001b[0mfrequency\u001b[0m\u001b[1;33m=\u001b[0m\u001b[1;36m20\u001b[0m\u001b[1;33m,\u001b[0m\u001b[1;33m\n",
      "\u001b[0m    \u001b[0mhorizontal_angle\u001b[0m\u001b[1;33m=\u001b[0m\u001b[1;36m360\u001b[0m\u001b[1;33m,\u001b[0m\u001b[1;33m\n",
      "\u001b[0m    \u001b[0mmax_distance\u001b[0m\u001b[1;33m=\u001b[0m\u001b[1;36m120\u001b[0m\u001b[1;33m,\u001b[0m\u001b[1;33m\n",
      "\u001b[0m    \u001b[0mis_using_shared_memory\u001b[0m\u001b[1;33m=\u001b[0m\u001b[1;32mTrue\u001b[0m\u001b[1;33m,\u001b[0m\u001b[1;33m\n",
      "\u001b[0m    \u001b[0mis_visualised\u001b[0m\u001b[1;33m=\u001b[0m\u001b[1;32mTrue\u001b[0m\u001b[1;33m,\u001b[0m\u001b[1;33m\n",
      "\u001b[0m    \u001b[0mis_annotated\u001b[0m\u001b[1;33m=\u001b[0m\u001b[1;32mFalse\u001b[0m\u001b[1;33m,\u001b[0m\u001b[1;33m\n",
      "\u001b[0m    \u001b[0mis_static\u001b[0m\u001b[1;33m=\u001b[0m\u001b[1;32mFalse\u001b[0m\u001b[1;33m,\u001b[0m\u001b[1;33m\n",
      "\u001b[0m    \u001b[0mis_snapping_desired\u001b[0m\u001b[1;33m=\u001b[0m\u001b[1;32mFalse\u001b[0m\u001b[1;33m,\u001b[0m\u001b[1;33m\n",
      "\u001b[0m    \u001b[0mis_force_inside_triangle\u001b[0m\u001b[1;33m=\u001b[0m\u001b[1;32mFalse\u001b[0m\u001b[1;33m,\u001b[0m\u001b[1;33m\n",
      "\u001b[0m\u001b[1;33m)\u001b[0m\u001b[1;33m\u001b[0m\u001b[1;33m\u001b[0m\u001b[0m\n",
      "\u001b[1;31mDocstring:\u001b[0m      <no docstring>\n",
      "\u001b[1;31mInit docstring:\u001b[0m\n",
      "Creates a LiDAR sensor.\n",
      "\n",
      "Args:\n",
      "    name (str): A unique name for this LiDAR sensor.\n",
      "    bng (BeamNGpy): The BeamNGpy instance, with which to communicate to the simulation.\n",
      "    vehicle (Vehicle class): The vehicle to which this sensor should be attached, if any.\n",
      "    requested_update_time (float): The time which should pass between sensor reading updates, in seconds. This is just a suggestion to the manager.\n",
      "    update_priority (float): The priority which the sensor should ask for new readings. lowest -> 0, highest -> 1. \n",
      "    pos (tuple): (X, Y, Z) coordinate triplet specifying the position of the sensor, in world space.\n",
      "    dir (tuple): (X, Y, Z) Coordinate triplet specifying the forward direction of the sensor.\n",
      "    up (tuple): (X, Y, Z) Coordinate triplet specifying the up direction of the sensor.\n",
      "    vertical_resolution (int): The vertical resolution of this LiDAR sensor.\n",
      "    vertical_angle (float): The vertical angle of this LiDAR sensor, in degrees.\n",
      "    rays_per_second (float): The number of LiDAR rays per second which this sensor should emit.\n",
      "    frequency (float): The frequency of this LiDAR sensor.\n",
      "    horizontal_angle (float): The horizontal angle of this LiDAR sensor.\n",
      "    max_distance (float): The maximum distance which this LiDAR sensor will detect, in metres.\n",
      "    is_using_shared_memory (bool): A flag which indicates if we should use shared memory to send/recieve the sensor readings data.\n",
      "    is_visualised (bool): A flag which indicates if this LiDAR sensor should appear visualised or not.\n",
      "    is_annotated (bool): A flag which indicates if this LiDAR sensor should return annotation data instead of distance data.\n",
      "    is_static (bool): A flag which indicates whether this sensor should be static (fixed position), or attached to a vehicle.\n",
      "    is_snapping_desired (bool): A flag which indicates whether or not to snap the sensor to the nearest vehicle triangle (not used for static sensors).\n",
      "    is_force_inside_triangle (bool): A flag which indicates if the sensor should be forced inside the nearest vehicle triangle (not used for static sensors).\n",
      "\u001b[1;31mFile:\u001b[0m           c:\\beamngpy\\src\\beamngpy\\sensors\\lidar.py\n",
      "\u001b[1;31mType:\u001b[0m           type\n",
      "\u001b[1;31mSubclasses:\u001b[0m     \n"
     ]
    }
   ],
   "source": [
    "?Lidar"
   ]
  },
  {
   "cell_type": "markdown",
   "id": "9eaab08d-e233-4ead-8cab-0564c00ab384",
   "metadata": {},
   "source": [
    "#### Code"
   ]
  },
  {
   "cell_type": "code",
   "execution_count": 65,
   "id": "b3706034-182d-44d0-a5b5-983d98dce494",
   "metadata": {},
   "outputs": [],
   "source": [
    "scenario.remove_vehicle(ego)\n",
    "ego = Vehicle('ego', model='etk800', color='White', licence='PYTHON')\n",
    "lidar = Lidar('lidar1', beamng, vehicle)\n",
    "\n",
    "scenario.add_vehicle(ego, pos=(-692.93, -1341.58, 140.60),\n",
    "                     rot_quat=(0.0000, 0.0000, 0.6757, 0.7372))\n",
    "ego.ai_set_mode('span')"
   ]
  },
  {
   "cell_type": "code",
   "execution_count": 66,
   "id": "edd90bb2-c28c-4510-ba2e-057d71e7ba54",
   "metadata": {},
   "outputs": [
    {
     "name": "stdout",
     "output_type": "stream",
     "text": [
      "{'type': 'Lidar', 'pointCloud': 1876656.0, 'colours': 625552.0}\n"
     ]
    }
   ],
   "source": [
    "lidar_data = lidar.poll()\n",
    "print(lidar_data)"
   ]
  },
  {
   "cell_type": "markdown",
   "id": "a81692b5-b4c5-4f56-acee-8d20fddac7e5",
   "metadata": {},
   "source": [
    "### Ultrasonic sensor\n",
    "\n",
    "An ultrasonic sensor measures the distance to a close object using ultrasonic waves and uses the echo-localization principle (for example, a parking sensor)."
   ]
  },
  {
   "cell_type": "markdown",
   "id": "36014c28-01c3-4626-b160-d11ac4d3d202",
   "metadata": {
    "tags": []
   },
   "source": [
    "#### Documentation"
   ]
  },
  {
   "cell_type": "code",
   "execution_count": 67,
   "id": "c21f6ed3-43cc-4542-880a-a29e74ad037c",
   "metadata": {},
   "outputs": [
    {
     "name": "stdout",
     "output_type": "stream",
     "text": [
      "\u001b[1;31mInit signature:\u001b[0m\n",
      "\u001b[0mUltrasonic\u001b[0m\u001b[1;33m(\u001b[0m\u001b[1;33m\n",
      "\u001b[0m    \u001b[0mname\u001b[0m\u001b[1;33m,\u001b[0m\u001b[1;33m\n",
      "\u001b[0m    \u001b[0mbng\u001b[0m\u001b[1;33m,\u001b[0m\u001b[1;33m\n",
      "\u001b[0m    \u001b[0mvehicle\u001b[0m\u001b[1;33m=\u001b[0m\u001b[1;32mNone\u001b[0m\u001b[1;33m,\u001b[0m\u001b[1;33m\n",
      "\u001b[0m    \u001b[0mrequested_update_time\u001b[0m\u001b[1;33m=\u001b[0m\u001b[1;36m0.1\u001b[0m\u001b[1;33m,\u001b[0m\u001b[1;33m\n",
      "\u001b[0m    \u001b[0mupdate_priority\u001b[0m\u001b[1;33m=\u001b[0m\u001b[1;36m0.0\u001b[0m\u001b[1;33m,\u001b[0m\u001b[1;33m\n",
      "\u001b[0m    \u001b[0mpos\u001b[0m\u001b[1;33m=\u001b[0m\u001b[1;33m(\u001b[0m\u001b[1;36m0\u001b[0m\u001b[1;33m,\u001b[0m \u001b[1;36m0\u001b[0m\u001b[1;33m,\u001b[0m \u001b[1;36m1.7\u001b[0m\u001b[1;33m)\u001b[0m\u001b[1;33m,\u001b[0m\u001b[1;33m\n",
      "\u001b[0m    \u001b[0mdir\u001b[0m\u001b[1;33m=\u001b[0m\u001b[1;33m(\u001b[0m\u001b[1;36m0\u001b[0m\u001b[1;33m,\u001b[0m \u001b[1;33m-\u001b[0m\u001b[1;36m1\u001b[0m\u001b[1;33m,\u001b[0m \u001b[1;36m0\u001b[0m\u001b[1;33m)\u001b[0m\u001b[1;33m,\u001b[0m\u001b[1;33m\n",
      "\u001b[0m    \u001b[0mup\u001b[0m\u001b[1;33m=\u001b[0m\u001b[1;33m(\u001b[0m\u001b[1;36m0\u001b[0m\u001b[1;33m,\u001b[0m \u001b[1;36m0\u001b[0m\u001b[1;33m,\u001b[0m \u001b[1;36m1\u001b[0m\u001b[1;33m)\u001b[0m\u001b[1;33m,\u001b[0m\u001b[1;33m\n",
      "\u001b[0m    \u001b[0mresolution\u001b[0m\u001b[1;33m=\u001b[0m\u001b[1;33m(\u001b[0m\u001b[1;36m200\u001b[0m\u001b[1;33m,\u001b[0m \u001b[1;36m200\u001b[0m\u001b[1;33m)\u001b[0m\u001b[1;33m,\u001b[0m\u001b[1;33m\n",
      "\u001b[0m    \u001b[0mfield_of_view_y\u001b[0m\u001b[1;33m=\u001b[0m\u001b[1;36m5.7\u001b[0m\u001b[1;33m,\u001b[0m\u001b[1;33m\n",
      "\u001b[0m    \u001b[0mnear_far_planes\u001b[0m\u001b[1;33m=\u001b[0m\u001b[1;33m(\u001b[0m\u001b[1;36m0.1\u001b[0m\u001b[1;33m,\u001b[0m \u001b[1;36m5.1\u001b[0m\u001b[1;33m)\u001b[0m\u001b[1;33m,\u001b[0m\u001b[1;33m\n",
      "\u001b[0m    \u001b[0mrange_roundess\u001b[0m\u001b[1;33m=\u001b[0m\u001b[1;33m-\u001b[0m\u001b[1;36m1.15\u001b[0m\u001b[1;33m,\u001b[0m\u001b[1;33m\n",
      "\u001b[0m    \u001b[0mrange_cutoff_sensitivity\u001b[0m\u001b[1;33m=\u001b[0m\u001b[1;36m0.0\u001b[0m\u001b[1;33m,\u001b[0m\u001b[1;33m\n",
      "\u001b[0m    \u001b[0mrange_shape\u001b[0m\u001b[1;33m=\u001b[0m\u001b[1;36m0.3\u001b[0m\u001b[1;33m,\u001b[0m\u001b[1;33m\n",
      "\u001b[0m    \u001b[0mrange_focus\u001b[0m\u001b[1;33m=\u001b[0m\u001b[1;36m0.376\u001b[0m\u001b[1;33m,\u001b[0m\u001b[1;33m\n",
      "\u001b[0m    \u001b[0mrange_min_cutoff\u001b[0m\u001b[1;33m=\u001b[0m\u001b[1;36m0.1\u001b[0m\u001b[1;33m,\u001b[0m\u001b[1;33m\n",
      "\u001b[0m    \u001b[0mrange_direct_max_cutoff\u001b[0m\u001b[1;33m=\u001b[0m\u001b[1;36m5.0\u001b[0m\u001b[1;33m,\u001b[0m\u001b[1;33m\n",
      "\u001b[0m    \u001b[0msensitivity\u001b[0m\u001b[1;33m=\u001b[0m\u001b[1;36m3.0\u001b[0m\u001b[1;33m,\u001b[0m\u001b[1;33m\n",
      "\u001b[0m    \u001b[0mfixed_window_size\u001b[0m\u001b[1;33m=\u001b[0m\u001b[1;36m10\u001b[0m\u001b[1;33m,\u001b[0m\u001b[1;33m\n",
      "\u001b[0m    \u001b[0mis_visualised\u001b[0m\u001b[1;33m=\u001b[0m\u001b[1;32mTrue\u001b[0m\u001b[1;33m,\u001b[0m\u001b[1;33m\n",
      "\u001b[0m    \u001b[0mis_static\u001b[0m\u001b[1;33m=\u001b[0m\u001b[1;32mFalse\u001b[0m\u001b[1;33m,\u001b[0m\u001b[1;33m\n",
      "\u001b[0m    \u001b[0mis_snapping_desired\u001b[0m\u001b[1;33m=\u001b[0m\u001b[1;32mFalse\u001b[0m\u001b[1;33m,\u001b[0m\u001b[1;33m\n",
      "\u001b[0m    \u001b[0mis_force_inside_triangle\u001b[0m\u001b[1;33m=\u001b[0m\u001b[1;32mFalse\u001b[0m\u001b[1;33m,\u001b[0m\u001b[1;33m\n",
      "\u001b[0m\u001b[1;33m)\u001b[0m\u001b[1;33m\u001b[0m\u001b[1;33m\u001b[0m\u001b[0m\n",
      "\u001b[1;31mDocstring:\u001b[0m      <no docstring>\n",
      "\u001b[1;31mInit docstring:\u001b[0m\n",
      "Creates an ultrasonic sensor.\n",
      "Args:\n",
      "    name (str): A unique name for this ultrasonic sensor.\n",
      "    bng (BeamNGpy): The BeamNGpy instance, with which to communicate to the simulation.\n",
      "    vehicle (Vehicle class): The vehicle to which this sensor should be attached, if any.\n",
      "    requested_update_time (float): The time which should pass between sensor reading updates, in seconds. This is just a suggestion to the manager.\n",
      "    update_priority (float): The priority which the sensor should ask for new readings. lowest -> 0, highest -> 1.\n",
      "    pos (tuple): (X, Y, Z) Coordinate triplet specifying the position of the sensor, in world space.\n",
      "    dir (tuple): (X, Y, Z) Coordinate triplet specifying the forward direction of the sensor.\n",
      "    up (tuple): (X, Y, Z) Coordinate triplet specifying the up direction of the sensor.\n",
      "    size (tuple): (X, Y) The resolution of the sensor (the size of the depth buffer image in the distance measurement computation).\n",
      "    field_of_view_y (float): The sensor vertical field of view parameters.\n",
      "    near_far_planes (tuple): (X, Y) The sensor near and far plane distances.\n",
      "    range_roundness (float): the general roudness of the ultrasonic sensor range-shape. Can be negative.\n",
      "    range_cutoff_sensitivity (float): a cutoff sensitivity parameter for the ultrasonic sensor range-shape.\n",
      "    range_shape (float): the shape of the ultrasonic sensor range-shape in [0, 1], from conical to circular.\n",
      "    range_focus (float): the focus parameter for the ultrasonic sensor range-shape.\n",
      "    range_min_cutoff (float): the minimum cut-off distance for the ultrasonic sensor range-shape. Nothing closer than this will be detected.\n",
      "    range_direct_max_cutoff (float): the maximum cut-off distance for the ultrasonic sensor range-shape. This parameter is a hard cutoff - nothing\n",
      "        further than this will be detected, although other parameters can also control the max distance.\n",
      "    sensitivity (float): an ultrasonic sensor sensitivity parameter.\n",
      "    fixed_window_size (float): an ultrasonic sensor sensitivity parameter.\n",
      "    is_visualised (bool): Whether or not to render the ultrasonic sensor points in the simulator.\n",
      "    is_static (bool): A flag which indicates whether this sensor should be static (fixed position), or attached to a vehicle.\n",
      "    is_snapping_desired (bool): A flag which indicates whether or not to snap the sensor to the nearest vehicle triangle (not used for static sensors).\n",
      "    is_force_inside_triangle (bool): A flag which indicates if the sensor should be forced inside the nearest vehicle triangle (not used for static sensors).\n",
      "\u001b[1;31mFile:\u001b[0m           c:\\beamngpy\\src\\beamngpy\\sensors\\ultrasonic.py\n",
      "\u001b[1;31mType:\u001b[0m           type\n",
      "\u001b[1;31mSubclasses:\u001b[0m     \n"
     ]
    }
   ],
   "source": [
    "?Ultrasonic"
   ]
  },
  {
   "cell_type": "markdown",
   "id": "84b51864-823d-4f5b-8992-81208b93dab3",
   "metadata": {},
   "source": [
    "#### Code"
   ]
  },
  {
   "cell_type": "code",
   "execution_count": 69,
   "id": "4491d06e-f77c-429b-a383-ba5f5a70371e",
   "metadata": {},
   "outputs": [],
   "source": [
    "scenario.remove_vehicle(ego)\n",
    "ego = Vehicle('ego', model='etk800', color='White', licence='PYTHON')\n",
    "ultrasonic = Ultrasonic('ultrasonic1', beamng, vehicle)\n",
    "\n",
    "scenario.add_vehicle(ego, pos=(1079.41, -690.81, 146.81),\n",
    "                     rot_quat=(-0.0350, -0.0021, -0.7029, 0.7104))"
   ]
  },
  {
   "cell_type": "code",
   "execution_count": 73,
   "id": "724fd3d8-07c3-4df5-83a1-96131b163a3e",
   "metadata": {},
   "outputs": [
    {
     "name": "stdout",
     "output_type": "stream",
     "text": [
      "{'distance': 9999.900390625, 'windowMin': 9999.900390625, 'windowMax': 9999.900390625}\n",
      "Distance to obstacle: 9999.900390625\n",
      "{'distance': 9999.900390625, 'windowMin': 9999.900390625, 'windowMax': 9999.900390625}\n",
      "Distance to obstacle: 9999.900390625\n",
      "{'distance': 9999.900390625, 'windowMin': 9999.900390625, 'windowMax': 9999.900390625}\n",
      "Distance to obstacle: 9999.900390625\n",
      "{'distance': 9999.900390625, 'windowMin': 9999.900390625, 'windowMax': 9999.900390625}\n",
      "Distance to obstacle: 9999.900390625\n",
      "{'distance': 9999.900390625, 'windowMin': 9999.900390625, 'windowMax': 9999.900390625}\n",
      "Distance to obstacle: 9999.900390625\n",
      "{'distance': 9999.900390625, 'windowMin': 9999.900390625, 'windowMax': 9999.900390625}\n",
      "Distance to obstacle: 9999.900390625\n",
      "{'distance': 9999.900390625, 'windowMin': 9999.900390625, 'windowMax': 9999.900390625}\n",
      "Distance to obstacle: 9999.900390625\n",
      "{'distance': 9999.900390625, 'windowMin': 9999.900390625, 'windowMax': 9999.900390625}\n",
      "Distance to obstacle: 9999.900390625\n",
      "{'distance': 9999.900390625, 'windowMin': 9999.900390625, 'windowMax': 9999.900390625}\n",
      "Distance to obstacle: 9999.900390625\n",
      "{'distance': 9999.900390625, 'windowMin': 9999.900390625, 'windowMax': 9999.900390625}\n",
      "Distance to obstacle: 9999.900390625\n",
      "{'distance': 9999.900390625, 'windowMin': 9999.900390625, 'windowMax': 9999.900390625}\n",
      "Distance to obstacle: 9999.900390625\n",
      "{'distance': 9999.900390625, 'windowMin': 9999.900390625, 'windowMax': 9999.900390625}\n",
      "Distance to obstacle: 9999.900390625\n",
      "{'distance': 9999.900390625, 'windowMin': 9999.900390625, 'windowMax': 9999.900390625}\n",
      "Distance to obstacle: 9999.900390625\n",
      "{'distance': 9999.900390625, 'windowMin': 9999.900390625, 'windowMax': 9999.900390625}\n",
      "Distance to obstacle: 9999.900390625\n",
      "{'distance': 9999.900390625, 'windowMin': 9999.900390625, 'windowMax': 9999.900390625}\n",
      "Distance to obstacle: 9999.900390625\n",
      "{'distance': 9999.900390625, 'windowMin': 9999.900390625, 'windowMax': 9999.900390625}\n",
      "Distance to obstacle: 9999.900390625\n",
      "{'distance': 9999.900390625, 'windowMin': 9999.900390625, 'windowMax': 9999.900390625}\n",
      "Distance to obstacle: 9999.900390625\n",
      "{'distance': 9999.900390625, 'windowMin': 9999.900390625, 'windowMax': 9999.900390625}\n",
      "Distance to obstacle: 9999.900390625\n",
      "{'distance': 9999.900390625, 'windowMin': 9999.900390625, 'windowMax': 9999.900390625}\n",
      "Distance to obstacle: 9999.900390625\n",
      "{'distance': 9999.900390625, 'windowMin': 9999.900390625, 'windowMax': 9999.900390625}\n",
      "Distance to obstacle: 9999.900390625\n"
     ]
    }
   ],
   "source": [
    "ego.control(gear=1, throttle=0.1)\n",
    "time.sleep(2)\n",
    "for _ in range(20):\n",
    "    ultrasonic_data = ultrasonic.poll()\n",
    "    print('Distance to obstacle:', ultrasonic_data['distance'])\n",
    "    beamng.step(30)"
   ]
  },
  {
   "cell_type": "markdown",
   "id": "8ec29743-ea81-48a1-bf8c-d4836fe357b3",
   "metadata": {},
   "source": [
    "### Other sensors"
   ]
  },
  {
   "cell_type": "markdown",
   "id": "62f1df92-8eac-4506-8f25-0f1fd21b3513",
   "metadata": {},
   "source": [
    "These provide differents kinds of measurements of the vehicle and simulation state:\n",
    "- `State`: position, direction and velocity of the vehicle\n",
    "- `IMU`: inertial measurement unit, measures forces and rotational acceleration in the vehicle\n",
    "- `Electrics`: various values provided by the car's electric systems\n",
    "- `Damage`: provided exact data about damage of the vehicle parts in the simulation\n",
    "- `Timer`: provides the relative time since the start of the simulation"
   ]
  },
  {
   "cell_type": "markdown",
   "id": "681f6bde-c481-44b2-859e-3f4f569ac719",
   "metadata": {
    "tags": []
   },
   "source": [
    "#### Documentation"
   ]
  },
  {
   "cell_type": "code",
   "execution_count": 74,
   "id": "dd8b87da-34d2-4f22-9de7-c96edc19468b",
   "metadata": {},
   "outputs": [
    {
     "name": "stdout",
     "output_type": "stream",
     "text": [
      "Object `State` not found.\n"
     ]
    }
   ],
   "source": [
    "?State"
   ]
  },
  {
   "cell_type": "code",
   "execution_count": 75,
   "id": "87a2588f-2d5f-4149-b855-7bea2cf39000",
   "metadata": {},
   "outputs": [
    {
     "name": "stdout",
     "output_type": "stream",
     "text": [
      "\u001b[1;31mInit signature:\u001b[0m \u001b[0mIMU\u001b[0m\u001b[1;33m(\u001b[0m\u001b[0mpos\u001b[0m\u001b[1;33m=\u001b[0m\u001b[1;32mNone\u001b[0m\u001b[1;33m,\u001b[0m \u001b[0mnode\u001b[0m\u001b[1;33m=\u001b[0m\u001b[1;32mNone\u001b[0m\u001b[1;33m,\u001b[0m \u001b[0mname\u001b[0m\u001b[1;33m=\u001b[0m\u001b[1;32mNone\u001b[0m\u001b[1;33m,\u001b[0m \u001b[0mdebug\u001b[0m\u001b[1;33m=\u001b[0m\u001b[1;32mFalse\u001b[0m\u001b[1;33m)\u001b[0m\u001b[1;33m\u001b[0m\u001b[1;33m\u001b[0m\u001b[0m\n",
      "\u001b[1;31mDocstring:\u001b[0m     \n",
      "An IMU measures forces and rotational acceleration at a certain point on a\n",
      "vehicle. This can be used to analyze forces acting on certain areas of the\n",
      "car (like the driver's position) or estimate the trajectory of a vehicle\n",
      "from its rotation and acceleration.\n",
      "\u001b[1;31mFile:\u001b[0m           c:\\beamngpy\\src\\beamngpy\\sensors\\imu.py\n",
      "\u001b[1;31mType:\u001b[0m           ABCMeta\n",
      "\u001b[1;31mSubclasses:\u001b[0m     \n"
     ]
    }
   ],
   "source": [
    "?IMU"
   ]
  },
  {
   "cell_type": "code",
   "execution_count": 76,
   "id": "30a7bd27-c9ec-46c3-8d05-963e8c15f41f",
   "metadata": {},
   "outputs": [
    {
     "name": "stdout",
     "output_type": "stream",
     "text": [
      "\u001b[1;31mInit signature:\u001b[0m \u001b[0mElectrics\u001b[0m\u001b[1;33m(\u001b[0m\u001b[1;33m)\u001b[0m\u001b[1;33m\u001b[0m\u001b[1;33m\u001b[0m\u001b[0m\n",
      "\u001b[1;31mDocstring:\u001b[0m     \n",
      "This sensor is used to retrieve various values made available by the car's\n",
      "eletrics systems. These values include:\n",
      "\n",
      "# TODO: List all the electrics.lua values.\n",
      "- abs (int): ABS state\n",
      "- abs_active (bool):\n",
      "- airspeed (float): Airspeed\n",
      "- airflowspeed (float):\n",
      "- altitude (float): Z axis position\n",
      "- avg_wheel_av (float):\n",
      "- brake (int): Brake value\n",
      "- brake_lights (int):\n",
      "- brake_input (int): Brake input value\n",
      "- check_engine (bool): Check engine light state.\n",
      "- clutch (int): Clutch value\n",
      "- clutch_input (int): Clutch input value\n",
      "- clutch_ratio (int):\n",
      "- driveshaft (float): Driveshaft\n",
      "- engine_load (float):\n",
      "- engine_throttle (int): Engine throttle state\n",
      "- esc (int): ESC state. 0 = not present/inactive, 1 = disabled, Blink = active\n",
      "- esc_active (bool):\n",
      "- exhaust_flow (float):\n",
      "- fog_lights (int): Fog light state\n",
      "- fuel (float): Percentage of fuel remaining.\n",
      "- fuel_capacity (int): Total Fuel Capacity [L].\n",
      "- fuel_volume (float):\n",
      "- gear (int):\n",
      "- gear_a (int): Gear selected in automatic mode.\n",
      "- gear_index (int):\n",
      "- gear_m (int): Gear selected in manual mode.\n",
      "- hazard (int): Hazard light state\n",
      "- hazard_signal (bool):\n",
      "- headlights (int):\n",
      "- highbeam (int): High beam state\n",
      "- horn (int):\n",
      "- ignition (bool): Engine state\n",
      "- left_signal (bool):\n",
      "- lightbar (int): Lightbar state\n",
      "- lights (int): General light state. 1 = low, 2 = high\n",
      "- lowbeam (int): Low beam state\n",
      "- lowfuel (bool): Low fuel indicator\n",
      "- lowhighbeam (int): Low-high beam state\n",
      "- lowpressure (int): Low fuel pressure indicator\n",
      "- oil (int):\n",
      "- oil_temperature (float): Oil temperature [C].\n",
      "- parking (int): Parking lights on/off (not implemented yet)\n",
      "- parkingbrake (float): Parking brake state. 0.5 = halfway on\n",
      "- parkingbrake_input (int): Parking brake input state\n",
      "- radiator_fan_spin (int):\n",
      "- reverse (int): Reverse gear state\n",
      "- right_signal (bool):\n",
      "- rpm (float): Engine RPM\n",
      "- rpmspin (float):\n",
      "- rpm_tacho (float):\n",
      "- running (bool): Engine running state\n",
      "- signal_l (int): Left signal state. 0.5 = halfway to full blink\n",
      "- signal_r (int): Right signal state. 0.5 = halfway to full blink\n",
      "- steering (int): Steering state\n",
      "- steering_input (int): Steering input state\n",
      "- tcs (int): TCS state. 0 = not present/inactive, 1 = disabled, Blink = active\n",
      "- tcs_active (bool):\n",
      "- throttle (int): Throttle state\n",
      "- throttle_factor (int):\n",
      "- throttle_input (int): Throttle input state\n",
      "- turnsignal (int): Turn signal value. -1 = Left, 1 = Right,\n",
      "gradually 'fades' between values. Use \"signal_L\" and \"signal_R\" for flashing indicators.\n",
      "- two_step (bool):\n",
      "- water_temperature (float): Water temperature [C].\n",
      "- wheelspeed (float): Wheel speed [m/s].\n",
      "\u001b[1;31mFile:\u001b[0m           c:\\beamngpy\\src\\beamngpy\\sensors\\electrics.py\n",
      "\u001b[1;31mType:\u001b[0m           ABCMeta\n",
      "\u001b[1;31mSubclasses:\u001b[0m     \n"
     ]
    }
   ],
   "source": [
    "?Electrics"
   ]
  },
  {
   "cell_type": "code",
   "execution_count": 77,
   "id": "cbeabcf1-8d46-4814-b0a2-cf0ee166fb0d",
   "metadata": {},
   "outputs": [
    {
     "name": "stdout",
     "output_type": "stream",
     "text": [
      "\u001b[1;31mInit signature:\u001b[0m \u001b[0mDamage\u001b[0m\u001b[1;33m(\u001b[0m\u001b[1;33m)\u001b[0m\u001b[1;33m\u001b[0m\u001b[1;33m\u001b[0m\u001b[0m\n",
      "\u001b[1;31mDocstring:\u001b[0m     \n",
      "The damage sensor retrieves information about how damaged the structure\n",
      "of the vehicle is. It's important to realise that this is a sensor that has\n",
      "no analogue in real life as it returns a perfect knowledge overview of how\n",
      "deformed the vehicle is. It's therefore more of a ground truth than\n",
      "simulated sensor data.\n",
      "\u001b[1;31mFile:\u001b[0m           c:\\beamngpy\\src\\beamngpy\\sensors\\damage.py\n",
      "\u001b[1;31mType:\u001b[0m           ABCMeta\n",
      "\u001b[1;31mSubclasses:\u001b[0m     \n"
     ]
    }
   ],
   "source": [
    "?Damage"
   ]
  },
  {
   "cell_type": "code",
   "execution_count": 78,
   "id": "19f59f35-9e87-40d9-96f3-476f3ce8390b",
   "metadata": {},
   "outputs": [
    {
     "name": "stdout",
     "output_type": "stream",
     "text": [
      "\u001b[1;31mInit signature:\u001b[0m \u001b[0mTimer\u001b[0m\u001b[1;33m(\u001b[0m\u001b[1;33m)\u001b[0m\u001b[1;33m\u001b[0m\u001b[1;33m\u001b[0m\u001b[0m\n",
      "\u001b[1;31mDocstring:\u001b[0m     \n",
      "The timer sensor keeps track of the time that has passed since the\n",
      "simulation started. It provides that information in seconds relative to the\n",
      "scenario start and does not represent something like a day time or date. It\n",
      "properly handles pausing the simulation, meaning the value of the timer\n",
      "sensor does not progress while the simulation is paused.\n",
      "\n",
      "When polled, this sensor provides the time in seconds since the start of\n",
      "the scenario in a dictionary under the 'time' key.\n",
      "\u001b[1;31mFile:\u001b[0m           c:\\beamngpy\\src\\beamngpy\\sensors\\timer.py\n",
      "\u001b[1;31mType:\u001b[0m           ABCMeta\n",
      "\u001b[1;31mSubclasses:\u001b[0m     \n"
     ]
    }
   ],
   "source": [
    "?Timer"
   ]
  },
  {
   "cell_type": "markdown",
   "id": "f194eeb1-8153-46ec-b370-322c409d1ed2",
   "metadata": {},
   "source": [
    "#### Code"
   ]
  },
  {
   "cell_type": "code",
   "execution_count": 79,
   "id": "8ce6b7da-1e50-49b0-90c3-c1f306df4aff",
   "metadata": {},
   "outputs": [],
   "source": [
    "scenario.remove_vehicle(ego)\n",
    "ego = Vehicle('ego', model='etk800', color='White', licence='PYTHON')\n",
    "imu = IMU(pos=(0.73, 0.51, 0.8), debug=True)\n",
    "electrics = Electrics()\n",
    "damage = Damage()\n",
    "timer = Timer()\n",
    "\n",
    "ego.attach_sensor('imu', imu)\n",
    "ego.attach_sensor('electrics', electrics)\n",
    "ego.attach_sensor('damage', damage)\n",
    "ego.attach_sensor('timer', timer)\n",
    "\n",
    "scenario.add_vehicle(ego, pos=(-692.93, -1341.58, 140.60),\n",
    "                     rot_quat=(0.0000, 0.0000, 0.6757, 0.7372))\n",
    "ego.control(gear=1)\n",
    "ego.ai_set_mode('span')"
   ]
  },
  {
   "cell_type": "code",
   "execution_count": 80,
   "id": "7ecfe81c-3d66-4340-8d5c-542645910ebe",
   "metadata": {},
   "outputs": [],
   "source": [
    "ego.poll_sensors()"
   ]
  },
  {
   "cell_type": "markdown",
   "id": "4751cfce-9dbf-47c0-b68f-56bda12f7229",
   "metadata": {},
   "source": [
    "#### State"
   ]
  },
  {
   "cell_type": "code",
   "execution_count": 81,
   "id": "e26aa0ee-026b-493d-9028-87c516d7b0c2",
   "metadata": {},
   "outputs": [
    {
     "data": {
      "text/plain": [
       "{'vel': [-0.009131263941526413, 0.003967219963669777, -0.001958027947694063],\n",
       " 'rotation': [-0.0038856188766658306,\n",
       "  -0.004002729896456003,\n",
       "  -0.7371947765350342,\n",
       "  0.675657331943512],\n",
       " 'front': [-691.4493408203125, -1341.1202392578125, 141.07945251464844],\n",
       " 'up': [0.011066298931837082, 0.0009342415141873062, 0.9999383091926575],\n",
       " 'pos': [-692.931396484375, -1341.580322265625, 140.505859375],\n",
       " 'dir': [0.9961734414100647, 0.08666632324457169, -0.011289693415164948]}"
      ]
     },
     "execution_count": 81,
     "metadata": {},
     "output_type": "execute_result"
    }
   ],
   "source": [
    "ego.sensors['state'].data"
   ]
  },
  {
   "cell_type": "markdown",
   "id": "6bf54da2-3336-44ef-8a5b-314ba8b0256a",
   "metadata": {},
   "source": [
    "#### IMU"
   ]
  },
  {
   "cell_type": "code",
   "execution_count": 82,
   "id": "6eb51666-f747-46d3-a088-f9c013109d74",
   "metadata": {},
   "outputs": [
    {
     "data": {
      "text/plain": [
       "{'gX': 0.20870881519255596,\n",
       " 'gY': 0.5034317637993979,\n",
       " 'name': '143779060098',\n",
       " 'gZ': 0.18251427230869485,\n",
       " 'aX': -0.0005220939629476006,\n",
       " 'aY': 0.0011202009880493784,\n",
       " 'aZ': -4.3083172655980735e-16}"
      ]
     },
     "execution_count": 82,
     "metadata": {},
     "output_type": "execute_result"
    }
   ],
   "source": [
    "ego.sensors['imu'].data"
   ]
  },
  {
   "cell_type": "markdown",
   "id": "b7ee17b5-8be6-466b-bb7b-a716be3b4d88",
   "metadata": {},
   "source": [
    "#### Electrics"
   ]
  },
  {
   "cell_type": "code",
   "execution_count": 83,
   "id": "08b4966e-a1eb-46c7-a051-c8d2f3a7e0f2",
   "metadata": {},
   "outputs": [
    {
     "data": {
      "text/plain": [
       "{'wheelThermals': {'FR': {'brakeSurfaceTemperature': 25.936700439453148,\n",
       "   'brakeCoreTemperature': 25.936715872123912,\n",
       "   'brakeThermalEfficiency': 0.9309739146484789},\n",
       "  'FL': {'brakeSurfaceTemperature': 25.936700439453148,\n",
       "   'brakeCoreTemperature': 25.936715872123912,\n",
       "   'brakeThermalEfficiency': 0.9309739146484789},\n",
       "  'RR': {'brakeSurfaceTemperature': 25.936700439453148,\n",
       "   'brakeCoreTemperature': 25.93670993622451,\n",
       "   'brakeThermalEfficiency': 0.9309739146484789},\n",
       "  'RL': {'brakeSurfaceTemperature': 25.936700439453148,\n",
       "   'brakeCoreTemperature': 25.93670993622451,\n",
       "   'brakeThermalEfficiency': 0.9309739146484789}},\n",
       " 'altitude': 140.50584315032344,\n",
       " 'brake_input': 0.0,\n",
       " 'throttle_input': 0.006599999964237213,\n",
       " 'clutch_input': 0.0,\n",
       " 'virtualAirspeed': 0.09224714204383196,\n",
       " 'hasESC': 1.0,\n",
       " 'reverse': 0.0,\n",
       " 'accXSmooth': -0.0012499181437516343,\n",
       " 'wheelspeed': 0.07044748131638337,\n",
       " 'nop': 0.0,\n",
       " 'horn': 0.0,\n",
       " 'parkingbrake': 0.0,\n",
       " 'trip': 0.018965770055770766,\n",
       " 'abs': 0.0,\n",
       " 'parkingbrake_input': 0.0,\n",
       " 'steeringUnassisted': -0.1164705876041861,\n",
       " 'hazard': 0.0,\n",
       " 'lowpressure': 0.0,\n",
       " 'airspeed': 0.0030736945356217562,\n",
       " 'lowhighbeam': 0.0,\n",
       " 'lowbeam': 0.0,\n",
       " 'highbeam': 0.0,\n",
       " 'lowhighbeam_signal_R': 0.0,\n",
       " 'lowhighbeam_signal_L': 0.0,\n",
       " 'rpm': 630.2332390411044,\n",
       " 'highbeam_wigwag_R': 0.0,\n",
       " 'clutch': 1.0,\n",
       " 'isTCBrakeActive': 0.0,\n",
       " 'reverse_wigwag_L': 0.0,\n",
       " 'driveshaft': 357.4238187218147,\n",
       " 'brakelight_signal_L': 0.0,\n",
       " 'brakelight_signal_R': 0.0,\n",
       " 'airflowspeed': 0.0017638881092693138,\n",
       " 'freezeState': False,\n",
       " 'gearboxMode': 'arcade',\n",
       " 'engineRunning': 1.0,\n",
       " 'dseColor': '238BE6',\n",
       " 'ignition': True,\n",
       " 'hPatternAxisY': 0.0,\n",
       " 'lowfuel': False,\n",
       " 'hPatternAxisX': 0.0,\n",
       " 'lightbar': 0.0,\n",
       " 'smoothShiftLogicAV': 0.0017013884232109022,\n",
       " 'reverse_wigwag_R': 0.0,\n",
       " 'running': True,\n",
       " 'isYCBrakeActive': 0.0,\n",
       " 'hasTCS': 1.0,\n",
       " 'accZSmooth': -9.809263934480784,\n",
       " 'hasABS': 1.0,\n",
       " 'gear': 0.0,\n",
       " 'odometer': 0.018965770055770766,\n",
       " 'oil': 0.0,\n",
       " 'brake': 0.0,\n",
       " 'throttle': 0.006599999964237213,\n",
       " 'esc': 0.0,\n",
       " 'fuel': 0.9999803423886607,\n",
       " 'gearModeIndex': 0.0,\n",
       " 'steering_input': -0.1164705876041861,\n",
       " 'minGearIndex': -1.0,\n",
       " 'maxGearIndex': 6.0,\n",
       " 'highbeam_wigwag_L': 0.0,\n",
       " 'accYSmooth': 0.04241415668462775,\n",
       " 'steering': -9.46385826848329e-11,\n",
       " 'idlerpm': 650.0,\n",
       " 'maxrpm': 6800.0,\n",
       " 'parking': 0.0,\n",
       " 'rpmspin': 143.63236436010337,\n",
       " 'boost': 0.0,\n",
       " 'boostMax': 0.0,\n",
       " 'tcs': 0.0,\n",
       " 'turnsignal': 0.0,\n",
       " 'lights': 0.0,\n",
       " 'abs_active': 0.0,\n",
       " 'avg_wheel_av': -0.21658943843794987,\n",
       " 'brake_lights': 0.0,\n",
       " 'check_engine': False,\n",
       " 'clutch_ratio': 0.0,\n",
       " 'engine_load': 0.25470785170557764,\n",
       " 'engine_throttle': 0.006599999964237213,\n",
       " 'esc_active': False,\n",
       " 'exhaust_flow': 0.25531658591756984,\n",
       " 'fog_lights': 0.0,\n",
       " 'fuel_volume': 49.99901711943304,\n",
       " 'fuel_capacity': 50.0,\n",
       " 'gear_a': 0.0,\n",
       " 'gear_index': 0.0,\n",
       " 'gear_m': 0.0,\n",
       " 'hazard_signal': False,\n",
       " 'is_shifting': False,\n",
       " 'headlights': 0.0,\n",
       " 'oil_temperature': 80.27349399046668,\n",
       " 'radiator_fan_spin': 0.0,\n",
       " 'rpm_tacho': 633.4341437520507,\n",
       " 'signal_l': 0.0,\n",
       " 'left_signal': False,\n",
       " 'signal_r': 0.0,\n",
       " 'right_signal': False,\n",
       " 'tcs_active': False,\n",
       " 'two_step': False,\n",
       " 'water_temperature': 80.05402609970241}"
      ]
     },
     "execution_count": 83,
     "metadata": {},
     "output_type": "execute_result"
    }
   ],
   "source": [
    "ego.sensors['electrics'].data"
   ]
  },
  {
   "cell_type": "markdown",
   "id": "0ec49069-49d9-4b76-92e0-081bd4afb0b7",
   "metadata": {},
   "source": [
    "#### Damage"
   ]
  },
  {
   "cell_type": "code",
   "execution_count": 84,
   "id": "9563954b-bb3e-41f6-815a-128b27f73eeb",
   "metadata": {},
   "outputs": [
    {
     "data": {
      "text/plain": [
       "{'damage': 0.0,\n",
       " 'lowpressure': False,\n",
       " 'type': 'Damage',\n",
       " 'damage_ext': 0.0,\n",
       " 'deform_group_damage': {'doorglass_RL_break': {'eventCount': 0.0,\n",
       "   'damage': 0.0,\n",
       "   'invMaxEvents': 0.0015625000000000003,\n",
       "   'maxEvents': 639.9999999999999},\n",
       "  'doorglass_FL_break': {'eventCount': 0.0,\n",
       "   'damage': 0.0,\n",
       "   'invMaxEvents': 0.0015151515151515154,\n",
       "   'maxEvents': 659.9999999999999},\n",
       "  'headlightglass_R_break': {'eventCount': 0.0,\n",
       "   'damage': 0.0,\n",
       "   'invMaxEvents': 0.002272727272727273,\n",
       "   'maxEvents': 439.99999999999994},\n",
       "  'radiator_damage': {'eventCount': 0.0,\n",
       "   'damage': 0.0,\n",
       "   'invMaxEvents': 0.0025000000000000005,\n",
       "   'maxEvents': 399.99999999999994},\n",
       "  'headlightglass_L_break': {'eventCount': 0.0,\n",
       "   'damage': 0.0,\n",
       "   'invMaxEvents': 0.002272727272727273,\n",
       "   'maxEvents': 439.99999999999994},\n",
       "  'taillightglass_R_break': {'eventCount': 0.0,\n",
       "   'damage': 0.0,\n",
       "   'invMaxEvents': 0.0018518518518518521,\n",
       "   'maxEvents': 539.9999999999999},\n",
       "  'taillightglass_L_break': {'eventCount': 0.0,\n",
       "   'damage': 0.0,\n",
       "   'invMaxEvents': 0.0018518518518518521,\n",
       "   'maxEvents': 539.9999999999999},\n",
       "  'mainEngine_intake': {'eventCount': 0.0,\n",
       "   'damage': 0.0,\n",
       "   'invMaxEvents': 0.0007692307692307693,\n",
       "   'maxEvents': 1299.9999999999998},\n",
       "  'mainEngine_accessories': {'eventCount': 0.0,\n",
       "   'damage': 0.0,\n",
       "   'invMaxEvents': 0.001,\n",
       "   'maxEvents': 1000.0},\n",
       "  'doorglass_RR_break': {'eventCount': 0.0,\n",
       "   'damage': 0.0,\n",
       "   'invMaxEvents': 0.0015625000000000003,\n",
       "   'maxEvents': 639.9999999999999},\n",
       "  'tailgatelight_L_break': {'eventCount': 0.0,\n",
       "   'damage': 0.0,\n",
       "   'invMaxEvents': 0.002272727272727273,\n",
       "   'maxEvents': 439.99999999999994},\n",
       "  'differential_R': {'eventCount': 0.0,\n",
       "   'damage': 0.0,\n",
       "   'invMaxEvents': 0.001,\n",
       "   'maxEvents': 1000.0},\n",
       "  'tailgatelight_R_break': {'eventCount': 0.0,\n",
       "   'damage': 0.0,\n",
       "   'invMaxEvents': 0.002272727272727273,\n",
       "   'maxEvents': 439.99999999999994},\n",
       "  'driveshaft': {'eventCount': 0.0,\n",
       "   'damage': 0.0,\n",
       "   'invMaxEvents': 0.01,\n",
       "   'maxEvents': 100.0},\n",
       "  'wheelaxleRL': {'eventCount': 0.0,\n",
       "   'damage': 0.0,\n",
       "   'invMaxEvents': 0.01,\n",
       "   'maxEvents': 100.0},\n",
       "  'windshield_break': {'eventCount': 0.0,\n",
       "   'damage': 0.0,\n",
       "   'invMaxEvents': 0.0001904761904761905,\n",
       "   'maxEvents': 5249.999999999999},\n",
       "  'sunroof_break': {'eventCount': 0.0,\n",
       "   'damage': 0.0,\n",
       "   'invMaxEvents': 0.0012295081967213114,\n",
       "   'maxEvents': 813.3333333333334},\n",
       "  'foglightglass_L_break': {'eventCount': 0.0,\n",
       "   'damage': 0.0,\n",
       "   'invMaxEvents': 0.0009090909090909093,\n",
       "   'maxEvents': 1099.9999999999998},\n",
       "  'wheelaxleRR': {'eventCount': 0.0,\n",
       "   'damage': 0.0,\n",
       "   'invMaxEvents': 0.01,\n",
       "   'maxEvents': 100.0},\n",
       "  'sideglass_R_break': {'eventCount': 0.0,\n",
       "   'damage': 0.0,\n",
       "   'invMaxEvents': 0.0015,\n",
       "   'maxEvents': 666.6666666666666},\n",
       "  'fendersignal_R_break': {'eventCount': 0.0,\n",
       "   'damage': 0.0,\n",
       "   'invMaxEvents': 0.0007692307692307693,\n",
       "   'maxEvents': 1299.9999999999998},\n",
       "  'oilpan_damage': {'eventCount': 0.0,\n",
       "   'damage': 0.0,\n",
       "   'invMaxEvents': 0.00125,\n",
       "   'maxEvents': 800.0},\n",
       "  'mainEngine': {'eventCount': 0.0,\n",
       "   'damage': 0.0,\n",
       "   'invMaxEvents': 0.00035714285714285714,\n",
       "   'maxEvents': 2800.0},\n",
       "  'sideglass_L_break': {'eventCount': 0.0,\n",
       "   'damage': 0.0,\n",
       "   'invMaxEvents': 0.0015,\n",
       "   'maxEvents': 666.6666666666666},\n",
       "  'tailgateglass_break': {'eventCount': 0.0,\n",
       "   'damage': 0.0,\n",
       "   'invMaxEvents': 0.0011111111111111113,\n",
       "   'maxEvents': 899.9999999999999},\n",
       "  'fendersignal_L_break': {'eventCount': 0.0,\n",
       "   'damage': 0.0,\n",
       "   'invMaxEvents': 0.0007692307692307693,\n",
       "   'maxEvents': 1299.9999999999998},\n",
       "  'display_break': {'eventCount': 0.0,\n",
       "   'damage': 0.0,\n",
       "   'invMaxEvents': 0.002380952380952381,\n",
       "   'maxEvents': 419.99999999999994},\n",
       "  'frontflashers_break': {'eventCount': 0.0,\n",
       "   'damage': 0.0,\n",
       "   'invMaxEvents': 0.0007142857142857144,\n",
       "   'maxEvents': 1399.9999999999998},\n",
       "  'doorglass_FR_break': {'eventCount': 0.0,\n",
       "   'damage': 0.0,\n",
       "   'invMaxEvents': 0.0015151515151515154,\n",
       "   'maxEvents': 659.9999999999999},\n",
       "  'foglightglass_R_break': {'eventCount': 0.0,\n",
       "   'damage': 0.0,\n",
       "   'invMaxEvents': 0.0009090909090909093,\n",
       "   'maxEvents': 1099.9999999999998},\n",
       "  'radtube_break': {'eventCount': 0.0,\n",
       "   'damage': 0.0,\n",
       "   'invMaxEvents': 0.002,\n",
       "   'maxEvents': 499.99999999999994}},\n",
       " 'part_damage': []}"
      ]
     },
     "execution_count": 84,
     "metadata": {},
     "output_type": "execute_result"
    }
   ],
   "source": [
    "ego.sensors['damage'].data"
   ]
  },
  {
   "cell_type": "markdown",
   "id": "29b585ef-5c5b-41f0-818d-64b47f8a149e",
   "metadata": {},
   "source": [
    "#### Timer"
   ]
  },
  {
   "cell_type": "code",
   "execution_count": 85,
   "id": "40e047cb-979c-4561-9319-d1b942599607",
   "metadata": {},
   "outputs": [
    {
     "data": {
      "text/plain": [
       "{'time': 512.2627543061972}"
      ]
     },
     "execution_count": 85,
     "metadata": {},
     "output_type": "execute_result"
    }
   ],
   "source": [
    "ego.sensors['timer'].data"
   ]
  },
  {
   "cell_type": "markdown",
   "id": "3ec4cc22-32fd-4ee4-99e6-6ccd1cd86428",
   "metadata": {},
   "source": [
    "### Where next"
   ]
  },
  {
   "cell_type": "markdown",
   "id": "506acb22-16eb-468f-a3ad-e0015084aa38",
   "metadata": {},
   "source": [
    "And this is the end of the quick overview of BeamNGpy features! If you want to see more examples, please follow the [example guide](https://github.com/BeamNG/BeamNGpy/blob/dev/examples/guide.md)."
   ]
  }
 ],
 "metadata": {
  "kernelspec": {
   "display_name": "Python 3.9.12 ('base')",
   "language": "python",
   "name": "python3"
  },
  "language_info": {
   "codemirror_mode": {
    "name": "ipython",
    "version": 3
   },
   "file_extension": ".py",
   "mimetype": "text/x-python",
   "name": "python",
   "nbconvert_exporter": "python",
   "pygments_lexer": "ipython3",
   "version": "3.9.12"
  },
  "vscode": {
   "interpreter": {
    "hash": "cc0740e3bebae00b506c59fa865ecde91af0eb9ffcfbaa16d5372fd3cfa7b232"
   }
  }
 },
 "nbformat": 4,
 "nbformat_minor": 5
}
