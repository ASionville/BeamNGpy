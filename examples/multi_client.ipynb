{
 "cells": [
  {
   "cell_type": "markdown",
   "id": "configured-sweden",
   "metadata": {},
   "source": [
    "# Multi-Client Example\n",
    "*BeamNG.tech / BeamNG.drive*\n",
    "\n",
    "## Introduction\n",
    "\n",
    "This example shows how to connect multiple `BeamNGpy` instances to the simulator and have them control different vehicles. For demonstration purposes, both instances are housed in the same Python process, but the same example could be used from an entirely different process or machine as well.\n",
    "\n",
    "## Scenario\n",
    "\n",
    "The scenario will be a rather simple one: there are two vehicles on the `smallgrid` map (an infinite flat plane) and one vehicle will randomly drive around, controlled by client A, with another vehicle, controlled by client B, mimicking A's behavior.\n",
    "\n",
    "## Setup\n",
    "\n",
    "Contrary to other examples, we will be using two instances of the `BeamNGpy` class representing two clients A and B. In our case, client A will create the scenario containing both vehicles, but client B will later connect and control one of the vehicles while A controls the other. The classes involved in this are:\n",
    "\n",
    "* `BeamNGpy`: Two instances of this will be used to implement client A and B\n",
    "* `Scenario`: Client A will create a scenario for both clients to play in\n",
    "* `Vehicle`: Used to specify and control vehicles involved in the scenario\n",
    "* `Electrics`: A sensor used to inspect interal systems of the vehicle\n",
    "\n",
    "The code starts with importing the respective classes:"
   ]
  },
  {
   "cell_type": "code",
   "execution_count": 1,
   "id": "aware-grammar",
   "metadata": {},
   "outputs": [],
   "source": [
    "import random\n",
    "\n",
    "from beamngpy import BeamNGpy, Scenario, Vehicle\n",
    "from beamngpy.sensors import Electrics"
   ]
  },
  {
   "cell_type": "markdown",
   "id": "tribal-arrival",
   "metadata": {},
   "source": [
    "Now we set up our first client who will create the scenario for both clients. Client A will also launch the simulator."
   ]
  },
  {
   "cell_type": "code",
   "execution_count": 2,
   "id": "crude-hampton",
   "metadata": {},
   "outputs": [
    {
     "data": {
      "text/plain": [
       "<beamngpy.beamng.beamng.BeamNGpy at 0x22c99d83310>"
      ]
     },
     "execution_count": 2,
     "metadata": {},
     "output_type": "execute_result"
    }
   ],
   "source": [
    "client_a = BeamNGpy('localhost', 64256)\n",
    "client_a.open()"
   ]
  },
  {
   "cell_type": "markdown",
   "id": "solid-soundtrack",
   "metadata": {},
   "source": [
    "With the simulator running, we can start setting up our scenario. It will contain two vehicles, the one controlled by Client A being placed in front of the one later controlled by client B."
   ]
  },
  {
   "cell_type": "code",
   "execution_count": 3,
   "id": "operational-market",
   "metadata": {},
   "outputs": [],
   "source": [
    "scenario = Scenario('smallgrid', 'tag')\n",
    "av_a = Vehicle('vehicleA', model='etk800')\n",
    "av_b = Vehicle('vehicleB', model='etk800')\n",
    "scenario.add_vehicle(av_a, pos=(0, -10, 0))\n",
    "scenario.add_vehicle(av_b)\n",
    "scenario.make(client_a)"
   ]
  },
  {
   "cell_type": "markdown",
   "id": "global-intellectual",
   "metadata": {},
   "source": [
    "## Running\n",
    "\n",
    "The scenario is now made, meaning the required files have been generated and can be loaded in the simulator:"
   ]
  },
  {
   "cell_type": "code",
   "execution_count": 4,
   "id": "endangered-hampton",
   "metadata": {},
   "outputs": [],
   "source": [
    "client_a.scenario.load(scenario)\n",
    "client_a.scenario.start()"
   ]
  },
  {
   "cell_type": "markdown",
   "id": "smaller-spanish",
   "metadata": {},
   "source": [
    "Now we will set up our second client and connect it to the running simulator. The client will first connect, then query the running scenario, and retrieve currently active vehicles. They will then find the vehicle meant for Client B and connect to it. Note that `client_b` is opened with the flag `launch=False`meaning it will not launch its own BeamNG.tech process."
   ]
  },
  {
   "cell_type": "code",
   "execution_count": 5,
   "id": "secure-breakfast",
   "metadata": {},
   "outputs": [
    {
     "name": "stdout",
     "output_type": "stream",
     "text": [
      "tag\n"
     ]
    }
   ],
   "source": [
    "client_b = BeamNGpy('localhost', 64256)\n",
    "client_b.open(launch=False)\n",
    "running_scenario = client_b.scenario.get_current()\n",
    "print(running_scenario.name)\n",
    "active_vehicles = client_b.scenario.get_current_vehicles()\n",
    "bv_a = active_vehicles['vehicleA']\n",
    "bv_b = active_vehicles['vehicleB']\n",
    "# B attaches their own sensor to get the current controls of A\n",
    "bv_a.sensors.attach('electrics', Electrics())\n",
    "bv_a.connect(client_b)\n",
    "bv_b.connect(client_b)"
   ]
  },
  {
   "cell_type": "markdown",
   "id": "relevant-elevation",
   "metadata": {},
   "source": [
    "Two clients are now connected to the running simulation and both vehicles. What follows is the main loop of the scenario, where Client A sends random steering inputs to their vehicle and Client B checks how A's vehicle is driving using the electrics sensor and sends the same inputs to their vehicle."
   ]
  },
  {
   "cell_type": "code",
   "execution_count": null,
   "id": "quick-stuff",
   "metadata": {},
   "outputs": [
    {
     "name": "stdout",
     "output_type": "stream",
     "text": [
      "0.38597644268602527 0.032619632758827385\n",
      "0.6140631495373333 0.2443437124722897\n",
      "0.7631290167443384 -0.1669360816929912\n",
      "0.7055943520691731 -0.13675721910184505\n",
      "0.1654727461446155 -0.15493953738021768\n",
      "0.21997585388210417 -0.16065928065329013\n",
      "0.9891361957419043 -0.08166718583405448\n",
      "0.19733242259710138 -0.16611200424041683\n",
      "0.4174650618368878 -0.004800910519080332\n",
      "0.856006222035302 0.28371785693240964\n",
      "0.4898422230077982 0.1442634380685084\n",
      "0.7748729238759757 -0.15520920337217692\n",
      "0.9052705018962289 0.22413378561819663\n",
      "0.47081781810873236 0.16144233830992422\n",
      "0.7910037471169399 0.04081974662367535\n",
      "0.8385507582402726 0.25843627080048287\n",
      "0.13986927910659963 0.1866505260238401\n",
      "0.1065120624112561 -0.0351320267248174\n",
      "0.37815844882429595 0.042117492632751025\n",
      "0.6334357160223022 0.22123064002288223\n",
      "0.3608837103209406 -0.11555030739540387\n",
      "0.6715498780379924 -0.23254919830073384\n",
      "0.27349800511181 -0.16115588911650428\n",
      "0.003020687150107504 -0.08443388537350907\n",
      "0.2970691951492431 -0.004043838955167878\n",
      "0.7530160051943604 -0.0662657016647277\n",
      "0.41327924405130956 -0.1525589561194438\n",
      "0.9610719510170955 -0.15721475193114692\n",
      "0.863134831365492 -0.12705503228871085\n",
      "0.5464434381667455 0.05153185839927364\n",
      "0.540810745472785 -0.040000834548110716\n",
      "0.637311066547268 0.061059745692417365\n",
      "0.8614706683353601 0.03079820396824424\n",
      "0.567973558110645 0.05196930862547495\n",
      "0.6552789660831673 0.2215425187322802\n",
      "0.6602251907167455 0.12814651488499423\n",
      "0.923203073861378 -0.09167215198961048\n",
      "0.4647276859840005 0.0812412910917617\n",
      "0.9819128837583494 -0.09257155752188481\n"
     ]
    }
   ],
   "source": [
    "# Focus simulator on second vehicle because it's the more interesting one to see\n",
    "client_a.vehicles.switch(av_b)\n",
    "\n",
    "for _ in range(120):\n",
    "    # Client A sending control inputs to their vehicle connection\n",
    "    av_a.control(throttle=random.random(), steering=(random.random() * 2 - 1))\n",
    "    \n",
    "    # Client B updating the electrics sensor of A's vehicle\n",
    "    bv_a.sensors.poll()\n",
    "    \n",
    "    throttle = bv_a.sensors['electrics']['throttle_input']\n",
    "    steering = bv_a.sensors['electrics']['steering_input']\n",
    "    print(throttle, steering)\n",
    "    bv_b.control(throttle=throttle, steering=steering)\n",
    "    \n",
    "    # Client A now advancing the simulation 60 steps\n",
    "    client_a.control.step(60)\n",
    "\n",
    "client_b.close()\n",
    "client_a.close()"
   ]
  },
  {
   "cell_type": "code",
   "execution_count": null,
   "id": "fab32005-601e-46d9-a60a-f35ed14e60fa",
   "metadata": {},
   "outputs": [],
   "source": []
  }
 ],
 "metadata": {},
 "nbformat": 4,
 "nbformat_minor": 5
}
